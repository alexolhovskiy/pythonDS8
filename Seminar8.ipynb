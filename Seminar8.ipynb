{
 "cells": [
  {
   "cell_type": "code",
   "execution_count": 1,
   "id": "54f27382-2db1-40d5-86f3-4dfc451ba6ff",
   "metadata": {},
   "outputs": [
    {
     "data": {
      "text/html": [
       "<div>\n",
       "<style scoped>\n",
       "    .dataframe tbody tr th:only-of-type {\n",
       "        vertical-align: middle;\n",
       "    }\n",
       "\n",
       "    .dataframe tbody tr th {\n",
       "        vertical-align: top;\n",
       "    }\n",
       "\n",
       "    .dataframe thead th {\n",
       "        text-align: right;\n",
       "    }\n",
       "</style>\n",
       "<table border=\"1\" class=\"dataframe\">\n",
       "  <thead>\n",
       "    <tr style=\"text-align: right;\">\n",
       "      <th></th>\n",
       "      <th>Person ID</th>\n",
       "      <th>Gender</th>\n",
       "      <th>Age</th>\n",
       "      <th>Occupation</th>\n",
       "      <th>Sleep Duration</th>\n",
       "      <th>Quality of Sleep</th>\n",
       "      <th>Physical Activity Level</th>\n",
       "      <th>Stress Level</th>\n",
       "      <th>BMI Category</th>\n",
       "      <th>Blood Pressure</th>\n",
       "      <th>Heart Rate</th>\n",
       "      <th>Daily Steps</th>\n",
       "      <th>Sleep Disorder</th>\n",
       "    </tr>\n",
       "  </thead>\n",
       "  <tbody>\n",
       "    <tr>\n",
       "      <th>0</th>\n",
       "      <td>1</td>\n",
       "      <td>Male</td>\n",
       "      <td>27</td>\n",
       "      <td>Software Engineer</td>\n",
       "      <td>6.1</td>\n",
       "      <td>6</td>\n",
       "      <td>42</td>\n",
       "      <td>6</td>\n",
       "      <td>Overweight</td>\n",
       "      <td>126/83</td>\n",
       "      <td>77</td>\n",
       "      <td>4200</td>\n",
       "      <td>NaN</td>\n",
       "    </tr>\n",
       "    <tr>\n",
       "      <th>1</th>\n",
       "      <td>2</td>\n",
       "      <td>Male</td>\n",
       "      <td>28</td>\n",
       "      <td>Doctor</td>\n",
       "      <td>6.2</td>\n",
       "      <td>6</td>\n",
       "      <td>60</td>\n",
       "      <td>8</td>\n",
       "      <td>Normal</td>\n",
       "      <td>125/80</td>\n",
       "      <td>75</td>\n",
       "      <td>10000</td>\n",
       "      <td>NaN</td>\n",
       "    </tr>\n",
       "    <tr>\n",
       "      <th>2</th>\n",
       "      <td>3</td>\n",
       "      <td>Male</td>\n",
       "      <td>28</td>\n",
       "      <td>Doctor</td>\n",
       "      <td>6.2</td>\n",
       "      <td>6</td>\n",
       "      <td>60</td>\n",
       "      <td>8</td>\n",
       "      <td>Normal</td>\n",
       "      <td>125/80</td>\n",
       "      <td>75</td>\n",
       "      <td>10000</td>\n",
       "      <td>NaN</td>\n",
       "    </tr>\n",
       "    <tr>\n",
       "      <th>3</th>\n",
       "      <td>4</td>\n",
       "      <td>Male</td>\n",
       "      <td>28</td>\n",
       "      <td>Sales Representative</td>\n",
       "      <td>5.9</td>\n",
       "      <td>4</td>\n",
       "      <td>30</td>\n",
       "      <td>8</td>\n",
       "      <td>Obese</td>\n",
       "      <td>140/90</td>\n",
       "      <td>85</td>\n",
       "      <td>3000</td>\n",
       "      <td>Sleep Apnea</td>\n",
       "    </tr>\n",
       "    <tr>\n",
       "      <th>4</th>\n",
       "      <td>5</td>\n",
       "      <td>Male</td>\n",
       "      <td>28</td>\n",
       "      <td>Sales Representative</td>\n",
       "      <td>5.9</td>\n",
       "      <td>4</td>\n",
       "      <td>30</td>\n",
       "      <td>8</td>\n",
       "      <td>Obese</td>\n",
       "      <td>140/90</td>\n",
       "      <td>85</td>\n",
       "      <td>3000</td>\n",
       "      <td>Sleep Apnea</td>\n",
       "    </tr>\n",
       "  </tbody>\n",
       "</table>\n",
       "</div>"
      ],
      "text/plain": [
       "   Person ID Gender  Age            Occupation  Sleep Duration  \\\n",
       "0          1   Male   27     Software Engineer             6.1   \n",
       "1          2   Male   28                Doctor             6.2   \n",
       "2          3   Male   28                Doctor             6.2   \n",
       "3          4   Male   28  Sales Representative             5.9   \n",
       "4          5   Male   28  Sales Representative             5.9   \n",
       "\n",
       "   Quality of Sleep  Physical Activity Level  Stress Level BMI Category  \\\n",
       "0                 6                       42             6   Overweight   \n",
       "1                 6                       60             8       Normal   \n",
       "2                 6                       60             8       Normal   \n",
       "3                 4                       30             8        Obese   \n",
       "4                 4                       30             8        Obese   \n",
       "\n",
       "  Blood Pressure  Heart Rate  Daily Steps Sleep Disorder  \n",
       "0         126/83          77         4200            NaN  \n",
       "1         125/80          75        10000            NaN  \n",
       "2         125/80          75        10000            NaN  \n",
       "3         140/90          85         3000    Sleep Apnea  \n",
       "4         140/90          85         3000    Sleep Apnea  "
      ]
     },
     "execution_count": 1,
     "metadata": {},
     "output_type": "execute_result"
    }
   ],
   "source": [
    "import pandas as pd\n",
    "df=pd.read_csv(\"Sleep_health_and_lifestyle_dataset.csv\")\n",
    "df.head()"
   ]
  },
  {
   "cell_type": "code",
   "execution_count": 2,
   "id": "b428f7bf-07a9-4087-be97-dc47cc504688",
   "metadata": {},
   "outputs": [
    {
     "name": "stdout",
     "output_type": "stream",
     "text": [
      "<class 'pandas.core.frame.DataFrame'>\n",
      "RangeIndex: 374 entries, 0 to 373\n",
      "Data columns (total 13 columns):\n",
      " #   Column                   Non-Null Count  Dtype  \n",
      "---  ------                   --------------  -----  \n",
      " 0   Person ID                374 non-null    int64  \n",
      " 1   Gender                   374 non-null    object \n",
      " 2   Age                      374 non-null    int64  \n",
      " 3   Occupation               374 non-null    object \n",
      " 4   Sleep Duration           374 non-null    float64\n",
      " 5   Quality of Sleep         374 non-null    int64  \n",
      " 6   Physical Activity Level  374 non-null    int64  \n",
      " 7   Stress Level             374 non-null    int64  \n",
      " 8   BMI Category             374 non-null    object \n",
      " 9   Blood Pressure           374 non-null    object \n",
      " 10  Heart Rate               374 non-null    int64  \n",
      " 11  Daily Steps              374 non-null    int64  \n",
      " 12  Sleep Disorder           155 non-null    object \n",
      "dtypes: float64(1), int64(7), object(5)\n",
      "memory usage: 38.1+ KB\n"
     ]
    }
   ],
   "source": [
    "df.info()\n"
   ]
  },
  {
   "cell_type": "markdown",
   "id": "812cef3b-a4ef-48ca-984d-fcabdca33b76",
   "metadata": {},
   "source": [
    "Пропуски отсутствуют! Пропуски в последнем столбике я интерпретирую как отсутствие нарушения, т.е. как значение!\n",
    "Кодифицируем данные!\n"
   ]
  },
  {
   "cell_type": "code",
   "execution_count": 3,
   "id": "7e1e72d4-1528-48e5-899c-d5ee00ccdff2",
   "metadata": {},
   "outputs": [
    {
     "data": {
      "text/plain": [
       "Gender\n",
       "Male      189\n",
       "Female    185\n",
       "Name: count, dtype: int64"
      ]
     },
     "execution_count": 3,
     "metadata": {},
     "output_type": "execute_result"
    }
   ],
   "source": [
    "df.iloc[:,1].value_counts()"
   ]
  },
  {
   "cell_type": "markdown",
   "id": "f48b890e-059d-46f2-a62f-4204bce4cfc5",
   "metadata": {},
   "source": [
    "Закодируем Male - 1 Female - 0\n",
    "Ну и так далее для столбиков со строковыми значениями\n"
   ]
  },
  {
   "cell_type": "code",
   "execution_count": 4,
   "id": "514eb05b-956c-42a3-bfcc-fb84a6c1eed9",
   "metadata": {},
   "outputs": [
    {
     "data": {
      "text/plain": [
       "Occupation\n",
       "Nurse                   73\n",
       "Doctor                  71\n",
       "Engineer                63\n",
       "Lawyer                  47\n",
       "Teacher                 40\n",
       "Accountant              37\n",
       "Salesperson             32\n",
       "Software Engineer        4\n",
       "Scientist                4\n",
       "Sales Representative     2\n",
       "Manager                  1\n",
       "Name: count, dtype: int64"
      ]
     },
     "execution_count": 4,
     "metadata": {},
     "output_type": "execute_result"
    }
   ],
   "source": [
    "df.iloc[:,3].value_counts()"
   ]
  },
  {
   "cell_type": "code",
   "execution_count": 5,
   "id": "7bb81602-fa5a-4ccf-be6b-974e1e0cb1c1",
   "metadata": {},
   "outputs": [
    {
     "data": {
      "text/plain": [
       "BMI Category\n",
       "Normal           195\n",
       "Overweight       148\n",
       "Normal Weight     21\n",
       "Obese             10\n",
       "Name: count, dtype: int64"
      ]
     },
     "execution_count": 5,
     "metadata": {},
     "output_type": "execute_result"
    }
   ],
   "source": [
    "df.iloc[:,8].value_counts()"
   ]
  },
  {
   "cell_type": "code",
   "execution_count": 6,
   "id": "04eb4e7e-2357-42a9-b7b3-cfe2e118a67b",
   "metadata": {},
   "outputs": [
    {
     "data": {
      "text/plain": [
       "Blood Pressure\n",
       "130/85    99\n",
       "140/95    65\n",
       "125/80    65\n",
       "120/80    45\n",
       "115/75    32\n",
       "135/90    27\n",
       "140/90     4\n",
       "125/82     4\n",
       "132/87     3\n",
       "128/85     3\n",
       "126/83     2\n",
       "115/78     2\n",
       "139/91     2\n",
       "142/92     2\n",
       "119/77     2\n",
       "135/88     2\n",
       "129/84     2\n",
       "128/84     2\n",
       "131/86     2\n",
       "117/76     2\n",
       "130/86     2\n",
       "118/75     2\n",
       "121/79     1\n",
       "122/80     1\n",
       "118/76     1\n",
       "Name: count, dtype: int64"
      ]
     },
     "execution_count": 6,
     "metadata": {},
     "output_type": "execute_result"
    }
   ],
   "source": [
    "df.iloc[:,9].value_counts()"
   ]
  },
  {
   "cell_type": "markdown",
   "id": "225dce1f-d464-4735-8675-38adc52c67b5",
   "metadata": {},
   "source": [
    "Разобью на группы: верхнее и ниже "
   ]
  },
  {
   "cell_type": "code",
   "execution_count": 7,
   "id": "39230d51-3296-473b-ab20-b6361b136b0c",
   "metadata": {},
   "outputs": [
    {
     "data": {
      "text/plain": [
       "Sleep Disorder\n",
       "Sleep Apnea    78\n",
       "Insomnia       77\n",
       "Name: count, dtype: int64"
      ]
     },
     "execution_count": 7,
     "metadata": {},
     "output_type": "execute_result"
    }
   ],
   "source": [
    "df.iloc[:,12].value_counts()"
   ]
  },
  {
   "cell_type": "markdown",
   "id": "673b59ff-0004-409b-9bac-223df9f3bcb1",
   "metadata": {},
   "source": [
    "и еще учтем 219 - без нарушений\n",
    "За дело!"
   ]
  },
  {
   "cell_type": "code",
   "execution_count": 8,
   "id": "2ef50a6f-9395-4f8d-986a-9be1ece27999",
   "metadata": {},
   "outputs": [],
   "source": [
    "# df = pd.get_dummies(df, columns=['Gender'])"
   ]
  },
  {
   "cell_type": "code",
   "execution_count": 9,
   "id": "c7110aaa-95c1-4fa5-8103-119b4d21a906",
   "metadata": {},
   "outputs": [],
   "source": [
    "from sklearn.preprocessing import LabelEncoder\n",
    "encoder = LabelEncoder()\n",
    "df['Gender'] = encoder.fit_transform(df['Gender'])"
   ]
  },
  {
   "cell_type": "code",
   "execution_count": 10,
   "id": "4fb4fbdc-f030-4ff5-a32e-774397e32824",
   "metadata": {},
   "outputs": [],
   "source": [
    "# df.iloc[:,1]=df.iloc[:,1].replace({'Male':1,'Female':0}).astype(int)"
   ]
  },
  {
   "cell_type": "code",
   "execution_count": 11,
   "id": "ed976bf1-ee40-4ee8-9900-acf0a6eeeb95",
   "metadata": {},
   "outputs": [
    {
     "data": {
      "text/html": [
       "<div>\n",
       "<style scoped>\n",
       "    .dataframe tbody tr th:only-of-type {\n",
       "        vertical-align: middle;\n",
       "    }\n",
       "\n",
       "    .dataframe tbody tr th {\n",
       "        vertical-align: top;\n",
       "    }\n",
       "\n",
       "    .dataframe thead th {\n",
       "        text-align: right;\n",
       "    }\n",
       "</style>\n",
       "<table border=\"1\" class=\"dataframe\">\n",
       "  <thead>\n",
       "    <tr style=\"text-align: right;\">\n",
       "      <th></th>\n",
       "      <th>Person ID</th>\n",
       "      <th>Gender</th>\n",
       "      <th>Age</th>\n",
       "      <th>Occupation</th>\n",
       "      <th>Sleep Duration</th>\n",
       "      <th>Quality of Sleep</th>\n",
       "      <th>Physical Activity Level</th>\n",
       "      <th>Stress Level</th>\n",
       "      <th>BMI Category</th>\n",
       "      <th>Blood Pressure</th>\n",
       "      <th>Heart Rate</th>\n",
       "      <th>Daily Steps</th>\n",
       "      <th>Sleep Disorder</th>\n",
       "    </tr>\n",
       "  </thead>\n",
       "  <tbody>\n",
       "    <tr>\n",
       "      <th>0</th>\n",
       "      <td>1</td>\n",
       "      <td>1</td>\n",
       "      <td>27</td>\n",
       "      <td>Software Engineer</td>\n",
       "      <td>6.1</td>\n",
       "      <td>6</td>\n",
       "      <td>42</td>\n",
       "      <td>6</td>\n",
       "      <td>Overweight</td>\n",
       "      <td>126/83</td>\n",
       "      <td>77</td>\n",
       "      <td>4200</td>\n",
       "      <td>NaN</td>\n",
       "    </tr>\n",
       "    <tr>\n",
       "      <th>1</th>\n",
       "      <td>2</td>\n",
       "      <td>1</td>\n",
       "      <td>28</td>\n",
       "      <td>Doctor</td>\n",
       "      <td>6.2</td>\n",
       "      <td>6</td>\n",
       "      <td>60</td>\n",
       "      <td>8</td>\n",
       "      <td>Normal</td>\n",
       "      <td>125/80</td>\n",
       "      <td>75</td>\n",
       "      <td>10000</td>\n",
       "      <td>NaN</td>\n",
       "    </tr>\n",
       "    <tr>\n",
       "      <th>2</th>\n",
       "      <td>3</td>\n",
       "      <td>1</td>\n",
       "      <td>28</td>\n",
       "      <td>Doctor</td>\n",
       "      <td>6.2</td>\n",
       "      <td>6</td>\n",
       "      <td>60</td>\n",
       "      <td>8</td>\n",
       "      <td>Normal</td>\n",
       "      <td>125/80</td>\n",
       "      <td>75</td>\n",
       "      <td>10000</td>\n",
       "      <td>NaN</td>\n",
       "    </tr>\n",
       "    <tr>\n",
       "      <th>3</th>\n",
       "      <td>4</td>\n",
       "      <td>1</td>\n",
       "      <td>28</td>\n",
       "      <td>Sales Representative</td>\n",
       "      <td>5.9</td>\n",
       "      <td>4</td>\n",
       "      <td>30</td>\n",
       "      <td>8</td>\n",
       "      <td>Obese</td>\n",
       "      <td>140/90</td>\n",
       "      <td>85</td>\n",
       "      <td>3000</td>\n",
       "      <td>Sleep Apnea</td>\n",
       "    </tr>\n",
       "    <tr>\n",
       "      <th>4</th>\n",
       "      <td>5</td>\n",
       "      <td>1</td>\n",
       "      <td>28</td>\n",
       "      <td>Sales Representative</td>\n",
       "      <td>5.9</td>\n",
       "      <td>4</td>\n",
       "      <td>30</td>\n",
       "      <td>8</td>\n",
       "      <td>Obese</td>\n",
       "      <td>140/90</td>\n",
       "      <td>85</td>\n",
       "      <td>3000</td>\n",
       "      <td>Sleep Apnea</td>\n",
       "    </tr>\n",
       "  </tbody>\n",
       "</table>\n",
       "</div>"
      ],
      "text/plain": [
       "   Person ID  Gender  Age            Occupation  Sleep Duration  \\\n",
       "0          1       1   27     Software Engineer             6.1   \n",
       "1          2       1   28                Doctor             6.2   \n",
       "2          3       1   28                Doctor             6.2   \n",
       "3          4       1   28  Sales Representative             5.9   \n",
       "4          5       1   28  Sales Representative             5.9   \n",
       "\n",
       "   Quality of Sleep  Physical Activity Level  Stress Level BMI Category  \\\n",
       "0                 6                       42             6   Overweight   \n",
       "1                 6                       60             8       Normal   \n",
       "2                 6                       60             8       Normal   \n",
       "3                 4                       30             8        Obese   \n",
       "4                 4                       30             8        Obese   \n",
       "\n",
       "  Blood Pressure  Heart Rate  Daily Steps Sleep Disorder  \n",
       "0         126/83          77         4200            NaN  \n",
       "1         125/80          75        10000            NaN  \n",
       "2         125/80          75        10000            NaN  \n",
       "3         140/90          85         3000    Sleep Apnea  \n",
       "4         140/90          85         3000    Sleep Apnea  "
      ]
     },
     "execution_count": 11,
     "metadata": {},
     "output_type": "execute_result"
    }
   ],
   "source": [
    "df.head()"
   ]
  },
  {
   "cell_type": "code",
   "execution_count": 12,
   "id": "1d081f47-d212-4247-8021-5bb659249d8f",
   "metadata": {},
   "outputs": [],
   "source": [
    "# df.iloc[:,3]=df.iloc[:,3].replace({'Nurse':1,'Doctor':2,'Engineer':3,'Lawyer':4,'Teacher':5,'Accountant':6,'Salesperson':7,'Software Engineer':8,'Scientist':9,'Sales Representative':10,'Manager':11}).astype(int)\n",
    "df['Occupation'] = encoder.fit_transform(df['Occupation'])"
   ]
  },
  {
   "cell_type": "code",
   "execution_count": 13,
   "id": "ba341376-ccd4-4fd6-8535-a09c70c4b6b2",
   "metadata": {},
   "outputs": [
    {
     "name": "stderr",
     "output_type": "stream",
     "text": [
      "C:\\Users\\User\\AppData\\Local\\Temp\\ipykernel_1924\\1974156101.py:1: FutureWarning: Downcasting behavior in `replace` is deprecated and will be removed in a future version. To retain the old behavior, explicitly call `result.infer_objects(copy=False)`. To opt-in to the future behavior, set `pd.set_option('future.no_silent_downcasting', True)`\n",
      "  df['BMI Category']=df['BMI Category'].replace({'Normal':1,'Overweight':2,'Normal Weight':3,'Obese':4}).astype(int)\n"
     ]
    }
   ],
   "source": [
    "df['BMI Category']=df['BMI Category'].replace({'Normal':1,'Overweight':2,'Normal Weight':3,'Obese':4}).astype(int)\n",
    "# df['BMI Category'] = encoder.fit_transform(df['BMI Category'])"
   ]
  },
  {
   "cell_type": "code",
   "execution_count": 14,
   "id": "56a096d1-6152-4a11-b9bc-3f8fbb2141bf",
   "metadata": {},
   "outputs": [
    {
     "data": {
      "text/html": [
       "<div>\n",
       "<style scoped>\n",
       "    .dataframe tbody tr th:only-of-type {\n",
       "        vertical-align: middle;\n",
       "    }\n",
       "\n",
       "    .dataframe tbody tr th {\n",
       "        vertical-align: top;\n",
       "    }\n",
       "\n",
       "    .dataframe thead th {\n",
       "        text-align: right;\n",
       "    }\n",
       "</style>\n",
       "<table border=\"1\" class=\"dataframe\">\n",
       "  <thead>\n",
       "    <tr style=\"text-align: right;\">\n",
       "      <th></th>\n",
       "      <th>Person ID</th>\n",
       "      <th>Gender</th>\n",
       "      <th>Age</th>\n",
       "      <th>Occupation</th>\n",
       "      <th>Sleep Duration</th>\n",
       "      <th>Quality of Sleep</th>\n",
       "      <th>Physical Activity Level</th>\n",
       "      <th>Stress Level</th>\n",
       "      <th>BMI Category</th>\n",
       "      <th>Blood Pressure</th>\n",
       "      <th>Heart Rate</th>\n",
       "      <th>Daily Steps</th>\n",
       "      <th>Sleep Disorder</th>\n",
       "    </tr>\n",
       "  </thead>\n",
       "  <tbody>\n",
       "    <tr>\n",
       "      <th>0</th>\n",
       "      <td>1</td>\n",
       "      <td>1</td>\n",
       "      <td>27</td>\n",
       "      <td>9</td>\n",
       "      <td>6.1</td>\n",
       "      <td>6</td>\n",
       "      <td>42</td>\n",
       "      <td>6</td>\n",
       "      <td>2</td>\n",
       "      <td>126/83</td>\n",
       "      <td>77</td>\n",
       "      <td>4200</td>\n",
       "      <td>NaN</td>\n",
       "    </tr>\n",
       "    <tr>\n",
       "      <th>1</th>\n",
       "      <td>2</td>\n",
       "      <td>1</td>\n",
       "      <td>28</td>\n",
       "      <td>1</td>\n",
       "      <td>6.2</td>\n",
       "      <td>6</td>\n",
       "      <td>60</td>\n",
       "      <td>8</td>\n",
       "      <td>1</td>\n",
       "      <td>125/80</td>\n",
       "      <td>75</td>\n",
       "      <td>10000</td>\n",
       "      <td>NaN</td>\n",
       "    </tr>\n",
       "    <tr>\n",
       "      <th>2</th>\n",
       "      <td>3</td>\n",
       "      <td>1</td>\n",
       "      <td>28</td>\n",
       "      <td>1</td>\n",
       "      <td>6.2</td>\n",
       "      <td>6</td>\n",
       "      <td>60</td>\n",
       "      <td>8</td>\n",
       "      <td>1</td>\n",
       "      <td>125/80</td>\n",
       "      <td>75</td>\n",
       "      <td>10000</td>\n",
       "      <td>NaN</td>\n",
       "    </tr>\n",
       "    <tr>\n",
       "      <th>3</th>\n",
       "      <td>4</td>\n",
       "      <td>1</td>\n",
       "      <td>28</td>\n",
       "      <td>6</td>\n",
       "      <td>5.9</td>\n",
       "      <td>4</td>\n",
       "      <td>30</td>\n",
       "      <td>8</td>\n",
       "      <td>4</td>\n",
       "      <td>140/90</td>\n",
       "      <td>85</td>\n",
       "      <td>3000</td>\n",
       "      <td>Sleep Apnea</td>\n",
       "    </tr>\n",
       "    <tr>\n",
       "      <th>4</th>\n",
       "      <td>5</td>\n",
       "      <td>1</td>\n",
       "      <td>28</td>\n",
       "      <td>6</td>\n",
       "      <td>5.9</td>\n",
       "      <td>4</td>\n",
       "      <td>30</td>\n",
       "      <td>8</td>\n",
       "      <td>4</td>\n",
       "      <td>140/90</td>\n",
       "      <td>85</td>\n",
       "      <td>3000</td>\n",
       "      <td>Sleep Apnea</td>\n",
       "    </tr>\n",
       "  </tbody>\n",
       "</table>\n",
       "</div>"
      ],
      "text/plain": [
       "   Person ID  Gender  Age  Occupation  Sleep Duration  Quality of Sleep  \\\n",
       "0          1       1   27           9             6.1                 6   \n",
       "1          2       1   28           1             6.2                 6   \n",
       "2          3       1   28           1             6.2                 6   \n",
       "3          4       1   28           6             5.9                 4   \n",
       "4          5       1   28           6             5.9                 4   \n",
       "\n",
       "   Physical Activity Level  Stress Level  BMI Category Blood Pressure  \\\n",
       "0                       42             6             2         126/83   \n",
       "1                       60             8             1         125/80   \n",
       "2                       60             8             1         125/80   \n",
       "3                       30             8             4         140/90   \n",
       "4                       30             8             4         140/90   \n",
       "\n",
       "   Heart Rate  Daily Steps Sleep Disorder  \n",
       "0          77         4200            NaN  \n",
       "1          75        10000            NaN  \n",
       "2          75        10000            NaN  \n",
       "3          85         3000    Sleep Apnea  \n",
       "4          85         3000    Sleep Apnea  "
      ]
     },
     "execution_count": 14,
     "metadata": {},
     "output_type": "execute_result"
    }
   ],
   "source": [
    "df.head()"
   ]
  },
  {
   "cell_type": "code",
   "execution_count": 15,
   "id": "77f51af5-d715-4fa5-a0c8-a3057d410b2e",
   "metadata": {},
   "outputs": [
    {
     "name": "stderr",
     "output_type": "stream",
     "text": [
      "C:\\Users\\User\\AppData\\Local\\Temp\\ipykernel_1924\\3720983043.py:1: FutureWarning: Downcasting behavior in `replace` is deprecated and will be removed in a future version. To retain the old behavior, explicitly call `result.infer_objects(copy=False)`. To opt-in to the future behavior, set `pd.set_option('future.no_silent_downcasting', True)`\n",
      "  df['Sleep Disorder']=df['Sleep Disorder'].replace({None:0,'Sleep Apnea':1,'Insomnia':2}).astype(int)\n"
     ]
    }
   ],
   "source": [
    "df['Sleep Disorder']=df['Sleep Disorder'].replace({None:0,'Sleep Apnea':1,'Insomnia':2}).astype(int)\n",
    "# df.iloc[:,12] = encoder.fit_transform(df.iloc[:,12])"
   ]
  },
  {
   "cell_type": "code",
   "execution_count": 16,
   "id": "727e0bf9-9b81-4179-9026-36fa2a7a334e",
   "metadata": {},
   "outputs": [],
   "source": [
    "df[['upper_presure', 'low_pressure']] = df.iloc[:, 9].str.split('/', expand=True)\n",
    "df['upper_presure'] = df['upper_presure'].astype(int)\n",
    "df['low_pressure'] = df['low_pressure'].astype(int)"
   ]
  },
  {
   "cell_type": "code",
   "execution_count": 17,
   "id": "84efde66-39c5-47f6-9990-73cefacd0106",
   "metadata": {},
   "outputs": [
    {
     "data": {
      "text/html": [
       "<div>\n",
       "<style scoped>\n",
       "    .dataframe tbody tr th:only-of-type {\n",
       "        vertical-align: middle;\n",
       "    }\n",
       "\n",
       "    .dataframe tbody tr th {\n",
       "        vertical-align: top;\n",
       "    }\n",
       "\n",
       "    .dataframe thead th {\n",
       "        text-align: right;\n",
       "    }\n",
       "</style>\n",
       "<table border=\"1\" class=\"dataframe\">\n",
       "  <thead>\n",
       "    <tr style=\"text-align: right;\">\n",
       "      <th></th>\n",
       "      <th>Person ID</th>\n",
       "      <th>Gender</th>\n",
       "      <th>Age</th>\n",
       "      <th>Occupation</th>\n",
       "      <th>Sleep Duration</th>\n",
       "      <th>Quality of Sleep</th>\n",
       "      <th>Physical Activity Level</th>\n",
       "      <th>Stress Level</th>\n",
       "      <th>BMI Category</th>\n",
       "      <th>Blood Pressure</th>\n",
       "      <th>Heart Rate</th>\n",
       "      <th>Daily Steps</th>\n",
       "      <th>Sleep Disorder</th>\n",
       "      <th>upper_presure</th>\n",
       "      <th>low_pressure</th>\n",
       "    </tr>\n",
       "  </thead>\n",
       "  <tbody>\n",
       "    <tr>\n",
       "      <th>0</th>\n",
       "      <td>1</td>\n",
       "      <td>1</td>\n",
       "      <td>27</td>\n",
       "      <td>9</td>\n",
       "      <td>6.1</td>\n",
       "      <td>6</td>\n",
       "      <td>42</td>\n",
       "      <td>6</td>\n",
       "      <td>2</td>\n",
       "      <td>126/83</td>\n",
       "      <td>77</td>\n",
       "      <td>4200</td>\n",
       "      <td>0</td>\n",
       "      <td>126</td>\n",
       "      <td>83</td>\n",
       "    </tr>\n",
       "    <tr>\n",
       "      <th>1</th>\n",
       "      <td>2</td>\n",
       "      <td>1</td>\n",
       "      <td>28</td>\n",
       "      <td>1</td>\n",
       "      <td>6.2</td>\n",
       "      <td>6</td>\n",
       "      <td>60</td>\n",
       "      <td>8</td>\n",
       "      <td>1</td>\n",
       "      <td>125/80</td>\n",
       "      <td>75</td>\n",
       "      <td>10000</td>\n",
       "      <td>0</td>\n",
       "      <td>125</td>\n",
       "      <td>80</td>\n",
       "    </tr>\n",
       "    <tr>\n",
       "      <th>2</th>\n",
       "      <td>3</td>\n",
       "      <td>1</td>\n",
       "      <td>28</td>\n",
       "      <td>1</td>\n",
       "      <td>6.2</td>\n",
       "      <td>6</td>\n",
       "      <td>60</td>\n",
       "      <td>8</td>\n",
       "      <td>1</td>\n",
       "      <td>125/80</td>\n",
       "      <td>75</td>\n",
       "      <td>10000</td>\n",
       "      <td>0</td>\n",
       "      <td>125</td>\n",
       "      <td>80</td>\n",
       "    </tr>\n",
       "    <tr>\n",
       "      <th>3</th>\n",
       "      <td>4</td>\n",
       "      <td>1</td>\n",
       "      <td>28</td>\n",
       "      <td>6</td>\n",
       "      <td>5.9</td>\n",
       "      <td>4</td>\n",
       "      <td>30</td>\n",
       "      <td>8</td>\n",
       "      <td>4</td>\n",
       "      <td>140/90</td>\n",
       "      <td>85</td>\n",
       "      <td>3000</td>\n",
       "      <td>1</td>\n",
       "      <td>140</td>\n",
       "      <td>90</td>\n",
       "    </tr>\n",
       "    <tr>\n",
       "      <th>4</th>\n",
       "      <td>5</td>\n",
       "      <td>1</td>\n",
       "      <td>28</td>\n",
       "      <td>6</td>\n",
       "      <td>5.9</td>\n",
       "      <td>4</td>\n",
       "      <td>30</td>\n",
       "      <td>8</td>\n",
       "      <td>4</td>\n",
       "      <td>140/90</td>\n",
       "      <td>85</td>\n",
       "      <td>3000</td>\n",
       "      <td>1</td>\n",
       "      <td>140</td>\n",
       "      <td>90</td>\n",
       "    </tr>\n",
       "  </tbody>\n",
       "</table>\n",
       "</div>"
      ],
      "text/plain": [
       "   Person ID  Gender  Age  Occupation  Sleep Duration  Quality of Sleep  \\\n",
       "0          1       1   27           9             6.1                 6   \n",
       "1          2       1   28           1             6.2                 6   \n",
       "2          3       1   28           1             6.2                 6   \n",
       "3          4       1   28           6             5.9                 4   \n",
       "4          5       1   28           6             5.9                 4   \n",
       "\n",
       "   Physical Activity Level  Stress Level  BMI Category Blood Pressure  \\\n",
       "0                       42             6             2         126/83   \n",
       "1                       60             8             1         125/80   \n",
       "2                       60             8             1         125/80   \n",
       "3                       30             8             4         140/90   \n",
       "4                       30             8             4         140/90   \n",
       "\n",
       "   Heart Rate  Daily Steps  Sleep Disorder  upper_presure  low_pressure  \n",
       "0          77         4200               0            126            83  \n",
       "1          75        10000               0            125            80  \n",
       "2          75        10000               0            125            80  \n",
       "3          85         3000               1            140            90  \n",
       "4          85         3000               1            140            90  "
      ]
     },
     "execution_count": 17,
     "metadata": {},
     "output_type": "execute_result"
    }
   ],
   "source": [
    "df.head()\n"
   ]
  },
  {
   "cell_type": "code",
   "execution_count": 18,
   "id": "607a0f85-c90b-4d74-acae-30b2ae371c7c",
   "metadata": {},
   "outputs": [
    {
     "data": {
      "text/html": [
       "<div>\n",
       "<style scoped>\n",
       "    .dataframe tbody tr th:only-of-type {\n",
       "        vertical-align: middle;\n",
       "    }\n",
       "\n",
       "    .dataframe tbody tr th {\n",
       "        vertical-align: top;\n",
       "    }\n",
       "\n",
       "    .dataframe thead th {\n",
       "        text-align: right;\n",
       "    }\n",
       "</style>\n",
       "<table border=\"1\" class=\"dataframe\">\n",
       "  <thead>\n",
       "    <tr style=\"text-align: right;\">\n",
       "      <th></th>\n",
       "      <th>Person ID</th>\n",
       "      <th>Gender</th>\n",
       "      <th>Age</th>\n",
       "      <th>Occupation</th>\n",
       "      <th>Sleep Duration</th>\n",
       "      <th>Quality of Sleep</th>\n",
       "      <th>Physical Activity Level</th>\n",
       "      <th>Stress Level</th>\n",
       "      <th>BMI Category</th>\n",
       "      <th>Blood Pressure</th>\n",
       "      <th>Heart Rate</th>\n",
       "      <th>Daily Steps</th>\n",
       "      <th>Sleep Disorder</th>\n",
       "      <th>upper_presure</th>\n",
       "      <th>low_pressure</th>\n",
       "      <th>Sleep Duration</th>\n",
       "      <th>Daily Steps</th>\n",
       "      <th>Sleep Duration^2</th>\n",
       "      <th>Sleep Duration Daily Steps</th>\n",
       "      <th>Daily Steps^2</th>\n",
       "    </tr>\n",
       "  </thead>\n",
       "  <tbody>\n",
       "    <tr>\n",
       "      <th>0</th>\n",
       "      <td>1</td>\n",
       "      <td>1</td>\n",
       "      <td>27</td>\n",
       "      <td>9</td>\n",
       "      <td>6.1</td>\n",
       "      <td>6</td>\n",
       "      <td>42</td>\n",
       "      <td>6</td>\n",
       "      <td>2</td>\n",
       "      <td>126/83</td>\n",
       "      <td>77</td>\n",
       "      <td>4200</td>\n",
       "      <td>0</td>\n",
       "      <td>126</td>\n",
       "      <td>83</td>\n",
       "      <td>6.1</td>\n",
       "      <td>4200.0</td>\n",
       "      <td>37.21</td>\n",
       "      <td>25620.0</td>\n",
       "      <td>17640000.0</td>\n",
       "    </tr>\n",
       "    <tr>\n",
       "      <th>1</th>\n",
       "      <td>2</td>\n",
       "      <td>1</td>\n",
       "      <td>28</td>\n",
       "      <td>1</td>\n",
       "      <td>6.2</td>\n",
       "      <td>6</td>\n",
       "      <td>60</td>\n",
       "      <td>8</td>\n",
       "      <td>1</td>\n",
       "      <td>125/80</td>\n",
       "      <td>75</td>\n",
       "      <td>10000</td>\n",
       "      <td>0</td>\n",
       "      <td>125</td>\n",
       "      <td>80</td>\n",
       "      <td>6.2</td>\n",
       "      <td>10000.0</td>\n",
       "      <td>38.44</td>\n",
       "      <td>62000.0</td>\n",
       "      <td>100000000.0</td>\n",
       "    </tr>\n",
       "    <tr>\n",
       "      <th>2</th>\n",
       "      <td>3</td>\n",
       "      <td>1</td>\n",
       "      <td>28</td>\n",
       "      <td>1</td>\n",
       "      <td>6.2</td>\n",
       "      <td>6</td>\n",
       "      <td>60</td>\n",
       "      <td>8</td>\n",
       "      <td>1</td>\n",
       "      <td>125/80</td>\n",
       "      <td>75</td>\n",
       "      <td>10000</td>\n",
       "      <td>0</td>\n",
       "      <td>125</td>\n",
       "      <td>80</td>\n",
       "      <td>6.2</td>\n",
       "      <td>10000.0</td>\n",
       "      <td>38.44</td>\n",
       "      <td>62000.0</td>\n",
       "      <td>100000000.0</td>\n",
       "    </tr>\n",
       "    <tr>\n",
       "      <th>3</th>\n",
       "      <td>4</td>\n",
       "      <td>1</td>\n",
       "      <td>28</td>\n",
       "      <td>6</td>\n",
       "      <td>5.9</td>\n",
       "      <td>4</td>\n",
       "      <td>30</td>\n",
       "      <td>8</td>\n",
       "      <td>4</td>\n",
       "      <td>140/90</td>\n",
       "      <td>85</td>\n",
       "      <td>3000</td>\n",
       "      <td>1</td>\n",
       "      <td>140</td>\n",
       "      <td>90</td>\n",
       "      <td>5.9</td>\n",
       "      <td>3000.0</td>\n",
       "      <td>34.81</td>\n",
       "      <td>17700.0</td>\n",
       "      <td>9000000.0</td>\n",
       "    </tr>\n",
       "    <tr>\n",
       "      <th>4</th>\n",
       "      <td>5</td>\n",
       "      <td>1</td>\n",
       "      <td>28</td>\n",
       "      <td>6</td>\n",
       "      <td>5.9</td>\n",
       "      <td>4</td>\n",
       "      <td>30</td>\n",
       "      <td>8</td>\n",
       "      <td>4</td>\n",
       "      <td>140/90</td>\n",
       "      <td>85</td>\n",
       "      <td>3000</td>\n",
       "      <td>1</td>\n",
       "      <td>140</td>\n",
       "      <td>90</td>\n",
       "      <td>5.9</td>\n",
       "      <td>3000.0</td>\n",
       "      <td>34.81</td>\n",
       "      <td>17700.0</td>\n",
       "      <td>9000000.0</td>\n",
       "    </tr>\n",
       "  </tbody>\n",
       "</table>\n",
       "</div>"
      ],
      "text/plain": [
       "   Person ID  Gender  Age  Occupation  Sleep Duration  Quality of Sleep  \\\n",
       "0          1       1   27           9             6.1                 6   \n",
       "1          2       1   28           1             6.2                 6   \n",
       "2          3       1   28           1             6.2                 6   \n",
       "3          4       1   28           6             5.9                 4   \n",
       "4          5       1   28           6             5.9                 4   \n",
       "\n",
       "   Physical Activity Level  Stress Level  BMI Category Blood Pressure  \\\n",
       "0                       42             6             2         126/83   \n",
       "1                       60             8             1         125/80   \n",
       "2                       60             8             1         125/80   \n",
       "3                       30             8             4         140/90   \n",
       "4                       30             8             4         140/90   \n",
       "\n",
       "   Heart Rate  Daily Steps  Sleep Disorder  upper_presure  low_pressure  \\\n",
       "0          77         4200               0            126            83   \n",
       "1          75        10000               0            125            80   \n",
       "2          75        10000               0            125            80   \n",
       "3          85         3000               1            140            90   \n",
       "4          85         3000               1            140            90   \n",
       "\n",
       "   Sleep Duration  Daily Steps  Sleep Duration^2  Sleep Duration Daily Steps  \\\n",
       "0             6.1       4200.0             37.21                     25620.0   \n",
       "1             6.2      10000.0             38.44                     62000.0   \n",
       "2             6.2      10000.0             38.44                     62000.0   \n",
       "3             5.9       3000.0             34.81                     17700.0   \n",
       "4             5.9       3000.0             34.81                     17700.0   \n",
       "\n",
       "   Daily Steps^2  \n",
       "0     17640000.0  \n",
       "1    100000000.0  \n",
       "2    100000000.0  \n",
       "3      9000000.0  \n",
       "4      9000000.0  "
      ]
     },
     "execution_count": 18,
     "metadata": {},
     "output_type": "execute_result"
    }
   ],
   "source": [
    "from sklearn.preprocessing import PolynomialFeatures\n",
    "\n",
    "# Исходные данные\n",
    "poly = PolynomialFeatures(degree=2)\n",
    "poly_features = poly.fit_transform(df[['Sleep Duration', 'Daily Steps']])\n",
    "\n",
    "# Получение названий признаков с помощью get_feature_names_out\n",
    "df_poly = pd.DataFrame(poly_features, columns=poly.get_feature_names_out(['Sleep Duration', 'Daily Steps']))\n",
    "\n",
    "# Теперь можно объединить df с новыми признаками\n",
    "df = pd.concat([df, df_poly[['Sleep Duration', 'Daily Steps', 'Sleep Duration^2', 'Sleep Duration Daily Steps', 'Daily Steps^2']]], axis=1)\n",
    "\n",
    "df.head()"
   ]
  },
  {
   "cell_type": "code",
   "execution_count": 19,
   "id": "c28ea442-486f-4ce1-9d08-4d55c5be4e14",
   "metadata": {},
   "outputs": [
    {
     "name": "stdout",
     "output_type": "stream",
     "text": [
      "<class 'pandas.core.frame.DataFrame'>\n",
      "RangeIndex: 374 entries, 0 to 373\n",
      "Data columns (total 20 columns):\n",
      " #   Column                      Non-Null Count  Dtype  \n",
      "---  ------                      --------------  -----  \n",
      " 0   Person ID                   374 non-null    int64  \n",
      " 1   Gender                      374 non-null    int32  \n",
      " 2   Age                         374 non-null    int64  \n",
      " 3   Occupation                  374 non-null    int32  \n",
      " 4   Sleep Duration              374 non-null    float64\n",
      " 5   Quality of Sleep            374 non-null    int64  \n",
      " 6   Physical Activity Level     374 non-null    int64  \n",
      " 7   Stress Level                374 non-null    int64  \n",
      " 8   BMI Category                374 non-null    int32  \n",
      " 9   Blood Pressure              374 non-null    object \n",
      " 10  Heart Rate                  374 non-null    int64  \n",
      " 11  Daily Steps                 374 non-null    int64  \n",
      " 12  Sleep Disorder              374 non-null    int32  \n",
      " 13  upper_presure               374 non-null    int32  \n",
      " 14  low_pressure                374 non-null    int32  \n",
      " 15  Sleep Duration              374 non-null    float64\n",
      " 16  Daily Steps                 374 non-null    float64\n",
      " 17  Sleep Duration^2            374 non-null    float64\n",
      " 18  Sleep Duration Daily Steps  374 non-null    float64\n",
      " 19  Daily Steps^2               374 non-null    float64\n",
      "dtypes: float64(6), int32(6), int64(7), object(1)\n",
      "memory usage: 49.8+ KB\n"
     ]
    }
   ],
   "source": [
    "df.info()\n"
   ]
  },
  {
   "cell_type": "code",
   "execution_count": 61,
   "id": "4c43ef9f-f3d6-4b01-ba40-4e058a7da5bc",
   "metadata": {},
   "outputs": [],
   "source": [
    "from sklearn.model_selection import train_test_split\n",
    "temp=pd.concat([df.iloc[:,1:9],df.iloc[:,10:12]],axis=1)\n",
    "temp=pd.concat([temp,df.iloc[:,13:]],axis=1)\n",
    "X_train, X_test, y_train, y_test = train_test_split(temp, df.iloc[:,12], test_size=0.2, random_state=42)"
   ]
  },
  {
   "cell_type": "code",
   "execution_count": 62,
   "id": "14445cdf-9477-4102-8e18-db2afaf971ed",
   "metadata": {},
   "outputs": [
    {
     "name": "stdout",
     "output_type": "stream",
     "text": [
      "299 75 299 75\n"
     ]
    }
   ],
   "source": [
    "# X_train.head()\n",
    "print(len(X_train), len(X_test), len(y_train), len(y_test))"
   ]
  },
  {
   "cell_type": "markdown",
   "id": "55ceb1b9-68c4-4848-87c0-723021360053",
   "metadata": {},
   "source": [
    "В качестве модели давайте применим логистическую регрессию, т.к. очевидно сталкнулись с задачей классификации!"
   ]
  },
  {
   "cell_type": "code",
   "execution_count": 63,
   "id": "5ee9b087-a44b-4399-9b66-58d5226241c7",
   "metadata": {},
   "outputs": [
    {
     "data": {
      "text/html": [
       "<div>\n",
       "<style scoped>\n",
       "    .dataframe tbody tr th:only-of-type {\n",
       "        vertical-align: middle;\n",
       "    }\n",
       "\n",
       "    .dataframe tbody tr th {\n",
       "        vertical-align: top;\n",
       "    }\n",
       "\n",
       "    .dataframe thead th {\n",
       "        text-align: right;\n",
       "    }\n",
       "</style>\n",
       "<table border=\"1\" class=\"dataframe\">\n",
       "  <thead>\n",
       "    <tr style=\"text-align: right;\">\n",
       "      <th></th>\n",
       "      <th>predict</th>\n",
       "      <th>present</th>\n",
       "    </tr>\n",
       "  </thead>\n",
       "  <tbody>\n",
       "    <tr>\n",
       "      <th>229</th>\n",
       "      <td>2</td>\n",
       "      <td>2</td>\n",
       "    </tr>\n",
       "    <tr>\n",
       "      <th>46</th>\n",
       "      <td>0</td>\n",
       "      <td>0</td>\n",
       "    </tr>\n",
       "    <tr>\n",
       "      <th>33</th>\n",
       "      <td>2</td>\n",
       "      <td>0</td>\n",
       "    </tr>\n",
       "    <tr>\n",
       "      <th>119</th>\n",
       "      <td>0</td>\n",
       "      <td>0</td>\n",
       "    </tr>\n",
       "    <tr>\n",
       "      <th>352</th>\n",
       "      <td>1</td>\n",
       "      <td>1</td>\n",
       "    </tr>\n",
       "  </tbody>\n",
       "</table>\n",
       "</div>"
      ],
      "text/plain": [
       "     predict  present\n",
       "229        2        2\n",
       "46         0        0\n",
       "33         2        0\n",
       "119        0        0\n",
       "352        1        1"
      ]
     },
     "execution_count": 63,
     "metadata": {},
     "output_type": "execute_result"
    }
   ],
   "source": [
    "from sklearn.linear_model import LogisticRegression\n",
    "model = LogisticRegression(max_iter=1000)\n",
    "model.fit(X_train, y_train)\n",
    "test=model.predict(X_test)\n",
    "test=pd.DataFrame({\"predict\":test,\"present\":y_test})\n",
    "test.sample(5)"
   ]
  },
  {
   "cell_type": "code",
   "execution_count": 64,
   "id": "2eb4a36f-13d0-42bf-9169-8d9d4fd2533a",
   "metadata": {},
   "outputs": [
    {
     "name": "stdout",
     "output_type": "stream",
     "text": [
      "Accuracy: 0.76\n",
      "Confusion Matrix:\n",
      " [[32  0 11]\n",
      " [ 1 13  2]\n",
      " [ 2  2 12]]\n",
      "Classification Report:\n",
      "               precision    recall  f1-score   support\n",
      "\n",
      "           0       0.91      0.74      0.82        43\n",
      "           1       0.87      0.81      0.84        16\n",
      "           2       0.48      0.75      0.59        16\n",
      "\n",
      "    accuracy                           0.76        75\n",
      "   macro avg       0.75      0.77      0.75        75\n",
      "weighted avg       0.81      0.76      0.77        75\n",
      "\n"
     ]
    }
   ],
   "source": [
    "from sklearn.metrics import accuracy_score, confusion_matrix, classification_report\n",
    "\n",
    "# Точность\n",
    "accuracy = accuracy_score(test['present'], test['predict'])\n",
    "print(\"Accuracy:\", accuracy)\n",
    "\n",
    "# Матрица ошибок\n",
    "conf_matrix = confusion_matrix(test['present'], test['predict'])\n",
    "print(\"Confusion Matrix:\\n\", conf_matrix)\n",
    "\n",
    "# Отчёт классификации\n",
    "print(\"Classification Report:\\n\", classification_report(test['present'], test['predict']))"
   ]
  },
  {
   "cell_type": "code",
   "execution_count": 65,
   "id": "d4ed0ecb-f789-47d2-9e13-64b771895a6c",
   "metadata": {},
   "outputs": [
    {
     "data": {
      "image/png": "[encoded data removed]",
      "text/plain": [
       "<Figure size 1600x800 with 9 Axes>"
      ]
     },
     "metadata": {},
     "output_type": "display_data"
    }
   ],
   "source": [
    "import matplotlib.pyplot as plt\n",
    "import seaborn as sns\n",
    "\n",
    "fig, axes = plt.subplots(nrows=3, ncols=3, figsize=(16, 8))\n",
    "axes = axes.flatten()\n",
    "temp_df=df.iloc[:,[2,4,10,11,13,14,17,18,19]]\n",
    "for i in range(9):\n",
    "    sns.boxplot(x=temp_df.iloc[:,i], ax=axes[i])\n",
    "    axes[i].set_title(f\"{temp_df.columns[i]}\")\n",
    "\n",
    "plt.tight_layout()\n",
    "plt.show()"
   ]
  },
  {
   "cell_type": "markdown",
   "id": "f121b959-0e42-41d7-b4a3-930b6f7e9f44",
   "metadata": {},
   "source": [
    "Выбросов нет! Этим способом точность логистической регрессии не повысить! Сильно отличаються по масштабу количество шагов в день и наши полиномиальные признаки!Стандартизируем!\n"
   ]
  },
  {
   "cell_type": "code",
   "execution_count": 66,
   "id": "3957d441-474a-475b-bc84-8910eeb846db",
   "metadata": {},
   "outputs": [
    {
     "data": {
      "text/html": [
       "<div>\n",
       "<style scoped>\n",
       "    .dataframe tbody tr th:only-of-type {\n",
       "        vertical-align: middle;\n",
       "    }\n",
       "\n",
       "    .dataframe tbody tr th {\n",
       "        vertical-align: top;\n",
       "    }\n",
       "\n",
       "    .dataframe thead th {\n",
       "        text-align: right;\n",
       "    }\n",
       "</style>\n",
       "<table border=\"1\" class=\"dataframe\">\n",
       "  <thead>\n",
       "    <tr style=\"text-align: right;\">\n",
       "      <th></th>\n",
       "      <th>predict</th>\n",
       "      <th>present</th>\n",
       "    </tr>\n",
       "  </thead>\n",
       "  <tbody>\n",
       "    <tr>\n",
       "      <th>239</th>\n",
       "      <td>2</td>\n",
       "      <td>2</td>\n",
       "    </tr>\n",
       "    <tr>\n",
       "      <th>345</th>\n",
       "      <td>1</td>\n",
       "      <td>1</td>\n",
       "    </tr>\n",
       "    <tr>\n",
       "      <th>193</th>\n",
       "      <td>2</td>\n",
       "      <td>2</td>\n",
       "    </tr>\n",
       "    <tr>\n",
       "      <th>352</th>\n",
       "      <td>1</td>\n",
       "      <td>1</td>\n",
       "    </tr>\n",
       "    <tr>\n",
       "      <th>332</th>\n",
       "      <td>0</td>\n",
       "      <td>0</td>\n",
       "    </tr>\n",
       "  </tbody>\n",
       "</table>\n",
       "</div>"
      ],
      "text/plain": [
       "     predict  present\n",
       "239        2        2\n",
       "345        1        1\n",
       "193        2        2\n",
       "352        1        1\n",
       "332        0        0"
      ]
     },
     "execution_count": 66,
     "metadata": {},
     "output_type": "execute_result"
    }
   ],
   "source": [
    "from sklearn.preprocessing import StandardScaler\n",
    "\n",
    "scaler = StandardScaler()\n",
    "\n",
    "X_train_s = scaler.fit_transform(X_train)\n",
    "X_test_s = scaler.transform(X_test)\n",
    "\n",
    "\n",
    "model = LogisticRegression(max_iter=1000)\n",
    "model.fit(X_train_s, y_train)\n",
    "test=model.predict(X_test_s)\n",
    "test=pd.DataFrame({\"predict\":test,\"present\":y_test})\n",
    "test.sample(5)"
   ]
  },
  {
   "cell_type": "code",
   "execution_count": 67,
   "id": "2a54bd93-8794-425a-8bb8-a3342c9c354a",
   "metadata": {},
   "outputs": [
    {
     "name": "stdout",
     "output_type": "stream",
     "text": [
      "Accuracy: 0.8933333333333333\n",
      "Confusion Matrix:\n",
      " [[41  0  2]\n",
      " [ 2 12  2]\n",
      " [ 1  1 14]]\n",
      "Classification Report:\n",
      "               precision    recall  f1-score   support\n",
      "\n",
      "           0       0.93      0.95      0.94        43\n",
      "           1       0.92      0.75      0.83        16\n",
      "           2       0.78      0.88      0.82        16\n",
      "\n",
      "    accuracy                           0.89        75\n",
      "   macro avg       0.88      0.86      0.86        75\n",
      "weighted avg       0.90      0.89      0.89        75\n",
      "\n"
     ]
    }
   ],
   "source": [
    "# Точность\n",
    "accuracy = accuracy_score(test['present'], test['predict'])\n",
    "print(\"Accuracy:\", accuracy)\n",
    "\n",
    "# Матрица ошибок\n",
    "conf_matrix = confusion_matrix(test['present'], test['predict'])\n",
    "print(\"Confusion Matrix:\\n\", conf_matrix)\n",
    "\n",
    "# Отчёт классификации\n",
    "print(\"Classification Report:\\n\", classification_report(test['present'], test['predict']))"
   ]
  },
  {
   "cell_type": "markdown",
   "id": "7e200fb5-35f2-4ea3-8a5e-de783717ed7c",
   "metadata": {},
   "source": [
    "Стандартизация сильно повысила надои и яйценоскость! Испытаем SVC"
   ]
  },
  {
   "cell_type": "code",
   "execution_count": 68,
   "id": "ce2230b0-133d-420c-bd31-39782329946a",
   "metadata": {},
   "outputs": [
    {
     "data": {
      "text/html": [
       "<div>\n",
       "<style scoped>\n",
       "    .dataframe tbody tr th:only-of-type {\n",
       "        vertical-align: middle;\n",
       "    }\n",
       "\n",
       "    .dataframe tbody tr th {\n",
       "        vertical-align: top;\n",
       "    }\n",
       "\n",
       "    .dataframe thead th {\n",
       "        text-align: right;\n",
       "    }\n",
       "</style>\n",
       "<table border=\"1\" class=\"dataframe\">\n",
       "  <thead>\n",
       "    <tr style=\"text-align: right;\">\n",
       "      <th></th>\n",
       "      <th>predict</th>\n",
       "      <th>present</th>\n",
       "    </tr>\n",
       "  </thead>\n",
       "  <tbody>\n",
       "    <tr>\n",
       "      <th>93</th>\n",
       "      <td>0</td>\n",
       "      <td>1</td>\n",
       "    </tr>\n",
       "    <tr>\n",
       "      <th>346</th>\n",
       "      <td>1</td>\n",
       "      <td>1</td>\n",
       "    </tr>\n",
       "    <tr>\n",
       "      <th>372</th>\n",
       "      <td>1</td>\n",
       "      <td>1</td>\n",
       "    </tr>\n",
       "    <tr>\n",
       "      <th>352</th>\n",
       "      <td>1</td>\n",
       "      <td>1</td>\n",
       "    </tr>\n",
       "    <tr>\n",
       "      <th>250</th>\n",
       "      <td>2</td>\n",
       "      <td>2</td>\n",
       "    </tr>\n",
       "  </tbody>\n",
       "</table>\n",
       "</div>"
      ],
      "text/plain": [
       "     predict  present\n",
       "93         0        1\n",
       "346        1        1\n",
       "372        1        1\n",
       "352        1        1\n",
       "250        2        2"
      ]
     },
     "execution_count": 68,
     "metadata": {},
     "output_type": "execute_result"
    }
   ],
   "source": [
    "from sklearn.svm import SVC\n",
    "\n",
    "# Обучение SVM с RBF ядром\n",
    "model = SVC(kernel='rbf', C=1.0, gamma=0.5, probability=True)\n",
    "model.fit(X_train_s, y_train)\n",
    "\n",
    "test=model.predict(X_test_s)\n",
    "test=pd.DataFrame({\"predict\":test,\"present\":y_test})\n",
    "test.sample(5)"
   ]
  },
  {
   "cell_type": "code",
   "execution_count": 53,
   "id": "f687a871-009b-473e-9214-280eabb98f4f",
   "metadata": {},
   "outputs": [
    {
     "name": "stdout",
     "output_type": "stream",
     "text": [
      "Accuracy: 0.88\n",
      "Confusion Matrix:\n",
      " [[42  0  1]\n",
      " [ 3 11  2]\n",
      " [ 1  2 13]]\n",
      "Classification Report:\n",
      "               precision    recall  f1-score   support\n",
      "\n",
      "           0       0.91      0.98      0.94        43\n",
      "           1       0.85      0.69      0.76        16\n",
      "           2       0.81      0.81      0.81        16\n",
      "\n",
      "    accuracy                           0.88        75\n",
      "   macro avg       0.86      0.83      0.84        75\n",
      "weighted avg       0.88      0.88      0.88        75\n",
      "\n"
     ]
    }
   ],
   "source": [
    "# Точность\n",
    "accuracy = accuracy_score(test['present'], test['predict'])\n",
    "print(\"Accuracy:\", accuracy)\n",
    "\n",
    "# Матрица ошибок\n",
    "conf_matrix = confusion_matrix(test['present'], test['predict'])\n",
    "print(\"Confusion Matrix:\\n\", conf_matrix)\n",
    "\n",
    "# Отчёт классификации\n",
    "print(\"Classification Report:\\n\", classification_report(test['present'], test['predict']))"
   ]
  },
  {
   "cell_type": "markdown",
   "id": "737f0cda-e18d-4df2-853b-097b9234dd22",
   "metadata": {},
   "source": [
    "В случае SVC прироста точности нет!"
   ]
  },
  {
   "cell_type": "markdown",
   "id": "d6c0105b-571e-47b0-8228-3de044a49e67",
   "metadata": {},
   "source": [
    "Линейную регрессию применять не будем, а вот деревья попробуем:"
   ]
  },
  {
   "cell_type": "code",
   "execution_count": 89,
   "id": "8eec9292-035b-47e3-9675-cd6b6905f431",
   "metadata": {},
   "outputs": [
    {
     "name": "stdout",
     "output_type": "stream",
     "text": [
      "R2 Score: 0.70\n",
      "Accuracy: 0.8933333333333333\n"
     ]
    }
   ],
   "source": [
    "from sklearn.ensemble import RandomForestRegressor\n",
    "\n",
    "rf = RandomForestRegressor(n_estimators=1000, max_depth=15, random_state=42)\n",
    "\n",
    "rf.fit(X_train_s, y_train)\n",
    "y_pred_all = model.predict(X_test_s)\n",
    "\n",
    "print(f\"R2 Score: {rf.score(X_test_s, y_test):.2f}\")\n",
    "print(f\"Accuracy: {accuracy_score(y_test, y_pred_all)}\")"
   ]
  },
  {
   "cell_type": "code",
   "execution_count": 90,
   "id": "5755e9e0-3379-40f1-a9dc-7ade1c78236f",
   "metadata": {},
   "outputs": [
    {
     "name": "stdout",
     "output_type": "stream",
     "text": [
      "R2 Score: 0.68\n",
      "Accuracy: 0.8933333333333333\n"
     ]
    }
   ],
   "source": [
    "from sklearn.ensemble import GradientBoostingRegressor\n",
    "\n",
    "gbr = GradientBoostingRegressor(n_estimators=1000, learning_rate=0.1, max_depth=15, random_state=42)\n",
    "\n",
    "gbr.fit(X_train_s, y_train)\n",
    "y_pred_all = model.predict(X_test_s)\n",
    "\n",
    "print(f\"R2 Score: {gbr.score(X_test_s, y_test):.2f}\")\n",
    "print(f\"Accuracy: {accuracy_score(y_test, y_pred_all)}\")"
   ]
  },
  {
   "cell_type": "markdown",
   "id": "3b5a2a8d-9de9-4e6e-8526-f442f3201b15",
   "metadata": {},
   "source": [
    "Логистическая регрессия рулит! Какие-то подозрительно одинаковые результаты!? Далее будем работать с логистической регрессией! Деревом проверим важность признаков"
   ]
  },
  {
   "cell_type": "code",
   "execution_count": 72,
   "id": "ebcb2322-fbd6-4742-b83d-da67bc327c0d",
   "metadata": {},
   "outputs": [
    {
     "name": "stdout",
     "output_type": "stream",
     "text": [
      "                       Feature  Importance\n",
      "7                 BMI Category    0.527962\n",
      "5      Physical Activity Level    0.255663\n",
      "10               upper_presure    0.086684\n",
      "11                low_pressure    0.051079\n",
      "1                          Age    0.014813\n",
      "6                 Stress Level    0.011792\n",
      "15  Sleep Duration Daily Steps    0.010112\n",
      "3               Sleep Duration    0.008365\n",
      "9                  Daily Steps    0.007977\n",
      "12              Sleep Duration    0.006622\n",
      "14            Sleep Duration^2    0.004464\n",
      "4             Quality of Sleep    0.003444\n",
      "0                       Gender    0.002720\n",
      "16               Daily Steps^2    0.002537\n",
      "13                 Daily Steps    0.002145\n",
      "8                   Heart Rate    0.001932\n",
      "2                   Occupation    0.001689\n"
     ]
    }
   ],
   "source": [
    "importances = gbr.feature_importances_\n",
    "\n",
    "importances_df = pd.DataFrame({\n",
    "    'Feature': X_train.columns,\n",
    "    'Importance': importances\n",
    "})\n",
    "\n",
    "importances_df = importances_df.sort_values(by='Importance', ascending=False)\n",
    "\n",
    "print(importances_df)"
   ]
  },
  {
   "cell_type": "markdown",
   "id": "31072b8f-2257-4008-b153-d568d48001ca",
   "metadata": {},
   "source": [
    "Проверим значимость признаков по тепловой карте и матрице корреляций!"
   ]
  },
  {
   "cell_type": "code",
   "execution_count": 80,
   "id": "040e6269-3b7a-45ae-b811-a5cfb8fbad63",
   "metadata": {},
   "outputs": [
    {
     "data": {
      "image/png": "[encoded data removed]",
      "text/plain": [
       "<Figure size 1200x800 with 2 Axes>"
      ]
     },
     "metadata": {},
     "output_type": "display_data"
    }
   ],
   "source": [
    "temp[\"res\"]=df['Sleep Disorder']\n",
    "m_corr = temp.corr()\n",
    "\n",
    "# Увеличение размера тепловой карты\n",
    "plt.figure(figsize=(12, 8))  # Укажите нужные размеры (ширина, высота)\n",
    "sns.heatmap(m_corr, annot=True, fmt='.2f', cmap='coolwarm')\n",
    "plt.show()"
   ]
  },
  {
   "cell_type": "markdown",
   "id": "2778a521-cb17-471f-a886-19b1cae4a3bf",
   "metadata": {},
   "source": [
    "Согласно тепловой карте на расстройства сна (я обозначил этот показатель коротко и емко \"res\")влияют: профессия, масса тела, всякое давление, причем прямо - т.е. надо думать чем больше вышеперечисленные показатели тем хуже расстройство сна или типтого. По важности признаков получается что рулит индекс массы тела, физактивность, всякие давления, а вот профессия влияет слабо."
   ]
  },
  {
   "cell_type": "code",
   "execution_count": 81,
   "id": "801b3368-92e7-4677-b9cf-ef1327991112",
   "metadata": {},
   "outputs": [
    {
     "data": {
      "text/html": [
       "<div>\n",
       "<style scoped>\n",
       "    .dataframe tbody tr th:only-of-type {\n",
       "        vertical-align: middle;\n",
       "    }\n",
       "\n",
       "    .dataframe tbody tr th {\n",
       "        vertical-align: top;\n",
       "    }\n",
       "\n",
       "    .dataframe thead th {\n",
       "        text-align: right;\n",
       "    }\n",
       "</style>\n",
       "<table border=\"1\" class=\"dataframe\">\n",
       "  <thead>\n",
       "    <tr style=\"text-align: right;\">\n",
       "      <th></th>\n",
       "      <th>predict</th>\n",
       "      <th>present</th>\n",
       "    </tr>\n",
       "  </thead>\n",
       "  <tbody>\n",
       "    <tr>\n",
       "      <th>372</th>\n",
       "      <td>1</td>\n",
       "      <td>1</td>\n",
       "    </tr>\n",
       "    <tr>\n",
       "      <th>255</th>\n",
       "      <td>2</td>\n",
       "      <td>2</td>\n",
       "    </tr>\n",
       "    <tr>\n",
       "      <th>22</th>\n",
       "      <td>0</td>\n",
       "      <td>0</td>\n",
       "    </tr>\n",
       "    <tr>\n",
       "      <th>361</th>\n",
       "      <td>1</td>\n",
       "      <td>1</td>\n",
       "    </tr>\n",
       "    <tr>\n",
       "      <th>46</th>\n",
       "      <td>0</td>\n",
       "      <td>0</td>\n",
       "    </tr>\n",
       "  </tbody>\n",
       "</table>\n",
       "</div>"
      ],
      "text/plain": [
       "     predict  present\n",
       "372        1        1\n",
       "255        2        2\n",
       "22         0        0\n",
       "361        1        1\n",
       "46         0        0"
      ]
     },
     "execution_count": 81,
     "metadata": {},
     "output_type": "execute_result"
    }
   ],
   "source": [
    "model = LogisticRegression(max_iter=1000)\n",
    "model.fit(X_train_s, y_train)\n",
    "test=model.predict(X_test_s)\n",
    "test=pd.DataFrame({\"predict\":test,\"present\":y_test})\n",
    "test.sample(5)"
   ]
  },
  {
   "cell_type": "code",
   "execution_count": 82,
   "id": "cd65864f-3138-48c2-a979-e78e1055f495",
   "metadata": {},
   "outputs": [
    {
     "name": "stdout",
     "output_type": "stream",
     "text": [
      "Accuracy: 0.8933333333333333\n",
      "Confusion Matrix:\n",
      " [[41  0  2]\n",
      " [ 2 12  2]\n",
      " [ 1  1 14]]\n",
      "Classification Report:\n",
      "               precision    recall  f1-score   support\n",
      "\n",
      "           0       0.93      0.95      0.94        43\n",
      "           1       0.92      0.75      0.83        16\n",
      "           2       0.78      0.88      0.82        16\n",
      "\n",
      "    accuracy                           0.89        75\n",
      "   macro avg       0.88      0.86      0.86        75\n",
      "weighted avg       0.90      0.89      0.89        75\n",
      "\n"
     ]
    }
   ],
   "source": [
    "# Точность\n",
    "accuracy = accuracy_score(test['present'], test['predict'])\n",
    "print(\"Accuracy:\", accuracy)\n",
    "\n",
    "# Матрица ошибок\n",
    "conf_matrix = confusion_matrix(test['present'], test['predict'])\n",
    "print(\"Confusion Matrix:\\n\", conf_matrix)\n",
    "\n",
    "# Отчёт классификации\n",
    "print(\"Classification Report:\\n\", classification_report(test['present'], test['predict']))"
   ]
  },
  {
   "cell_type": "code",
   "execution_count": 83,
   "id": "24008dbb-ae24-456f-ba73-37ebe691b012",
   "metadata": {},
   "outputs": [
    {
     "name": "stdout",
     "output_type": "stream",
     "text": [
      "Accuracy после отбора RFE: 0.8933\n",
      "Accuracy после отбора SelectKBest: 0.8800\n",
      "\n",
      "Сравнение:\n",
      "Accuracy на всех признаках: 0.8933\n",
      "Accuracy после RFE: 0.8933\n",
      "Accuracy после SelectKBest: 0.8800\n"
     ]
    }
   ],
   "source": [
    "from sklearn.feature_selection import RFE, SelectKBest, f_classif\n",
    "\n",
    "# === Отбор признаков: RFE ===\n",
    "rfe_selector = RFE(estimator=model, n_features_to_select=10, step=1)\n",
    "X_train_rfe = rfe_selector.fit_transform(X_train_s, y_train)\n",
    "X_test_rfe = rfe_selector.transform(X_test_s)\n",
    "\n",
    "model_rfe = LogisticRegression(max_iter=1000, random_state=42)\n",
    "model_rfe.fit(X_train_rfe, y_train)\n",
    "y_pred_rfe = model_rfe.predict(X_test_rfe)\n",
    "accuracy_rfe = accuracy_score(y_test, y_pred_rfe)\n",
    "\n",
    "print(f\"Accuracy после отбора RFE: {accuracy_rfe:.4f}\")\n",
    "\n",
    "# === Отбор признаков: SelectKBest ===\n",
    "select_k_best = SelectKBest(score_func=f_classif, k=10)\n",
    "X_train_kbest = select_k_best.fit_transform(X_train_s, y_train)\n",
    "X_test_kbest = select_k_best.transform(X_test_s)\n",
    "\n",
    "model_kbest = LogisticRegression(max_iter=1000, random_state=42)\n",
    "model_kbest.fit(X_train_kbest, y_train)\n",
    "y_pred_kbest = model_kbest.predict(X_test_kbest)\n",
    "accuracy_kbest = accuracy_score(y_test, y_pred_kbest)\n",
    "\n",
    "print(f\"Accuracy после отбора SelectKBest: {accuracy_kbest:.4f}\")\n",
    "\n",
    "# Итог:\n",
    "print(\"\\nСравнение:\")\n",
    "print(f\"Accuracy на всех признаках: {accuracy:.4f}\")\n",
    "print(f\"Accuracy после RFE: {accuracy_rfe:.4f}\")\n",
    "print(f\"Accuracy после SelectKBest: {accuracy_kbest:.4f}\")"
   ]
  },
  {
   "cell_type": "markdown",
   "id": "436bdbad-0a16-4e7a-b374-a6e0cc3c7b86",
   "metadata": {},
   "source": [
    "применив методы отбора признаков замечаем, что признаки то сильно не сыграли! Испытаем на/в лесу"
   ]
  },
  {
   "cell_type": "code",
   "execution_count": 84,
   "id": "89440d52-727f-43a5-bc12-ad7aef184633",
   "metadata": {},
   "outputs": [
    {
     "name": "stdout",
     "output_type": "stream",
     "text": [
      "R2 Score: 0.70\n"
     ]
    }
   ],
   "source": [
    "rf = RandomForestRegressor(n_estimators=1000, max_depth=15, random_state=42)\n",
    "\n",
    "rf.fit(X_train_s, y_train)\n",
    "y_pred_all = model.predict(X_test_s)\n",
    "\n",
    "print(f\"R2 Score: {rf.score(X_test_s, y_test):.2f}\")"
   ]
  },
  {
   "cell_type": "code",
   "execution_count": 86,
   "id": "287d2353-ba90-41a5-89cb-9d92a13b1389",
   "metadata": {},
   "outputs": [
    {
     "name": "stdout",
     "output_type": "stream",
     "text": [
      "Accuracy после отбора RFE: 0.8800\n",
      "Accuracy после отбора SelectKBest: 0.8800\n",
      "\n",
      "Сравнение:\n",
      "Accuracy на всех признаках: 0.8933\n",
      "Accuracy после RFE: 0.8800\n",
      "Accuracy после SelectKBest: 0.8800\n"
     ]
    }
   ],
   "source": [
    "from sklearn.ensemble import RandomForestClassifier\n",
    "# === Отбор признаков: RFE ===\n",
    "rfe_selector = RFE(estimator=rf, n_features_to_select=10, step=1)\n",
    "X_train_rfe = rfe_selector.fit_transform(X_train_s, y_train)\n",
    "X_test_rfe = rfe_selector.transform(X_test_s)\n",
    "\n",
    "model_rfe = RandomForestClassifier(n_estimators=100, random_state=42)\n",
    "model_rfe.fit(X_train_rfe, y_train)\n",
    "y_pred_rfe = model_rfe.predict(X_test_rfe)\n",
    "accuracy_rfe = accuracy_score(y_test, y_pred_rfe)\n",
    "\n",
    "print(f\"Accuracy после отбора RFE: {accuracy_rfe:.4f}\")\n",
    "\n",
    "# === Отбор признаков: SelectKBest ===\n",
    "select_k_best = SelectKBest(score_func=f_classif, k=10)\n",
    "X_train_kbest = select_k_best.fit_transform(X_train_s, y_train)\n",
    "X_test_kbest = select_k_best.transform(X_test_s)\n",
    "\n",
    "model_kbest = RandomForestClassifier(n_estimators=100, random_state=42)\n",
    "model_kbest.fit(X_train_kbest, y_train)\n",
    "y_pred_kbest = model_kbest.predict(X_test_kbest)\n",
    "accuracy_kbest = accuracy_score(y_test, y_pred_kbest)\n",
    "\n",
    "print(f\"Accuracy после отбора SelectKBest: {accuracy_kbest:.4f}\")\n",
    "\n",
    "# Итог:\n",
    "print(\"\\nСравнение:\")\n",
    "print(f\"Accuracy на всех признаках: {accuracy_score(y_test, y_pred_all):.4f}\")\n",
    "print(f\"Accuracy после RFE: {accuracy_rfe:.4f}\")\n",
    "print(f\"Accuracy после SelectKBest: {accuracy_kbest:.4f}\")"
   ]
  },
  {
   "cell_type": "code",
   "execution_count": 97,
   "id": "7af5f433-aa2a-4336-8eff-377b1eb628f9",
   "metadata": {},
   "outputs": [
    {
     "name": "stderr",
     "output_type": "stream",
     "text": [
      "C:\\Users\\User\\AppData\\Local\\Programs\\Python\\Python311\\Lib\\site-packages\\sklearn\\model_selection\\_search.py:1107: UserWarning: One or more of the test scores are non-finite: [nan nan nan nan nan nan nan nan nan nan nan nan nan nan nan nan nan nan\n",
      " nan nan nan nan nan nan nan nan nan nan nan nan nan nan nan nan nan nan\n",
      " nan nan nan nan nan nan nan nan nan nan nan nan nan nan nan nan nan nan\n",
      " nan nan nan nan nan nan nan nan nan nan nan nan nan nan nan nan nan nan\n",
      " nan nan nan nan nan nan nan nan nan nan nan nan nan nan nan nan nan nan\n",
      " nan nan nan nan nan nan nan nan nan nan nan nan nan nan nan nan nan nan\n",
      " nan nan nan nan nan nan nan nan nan nan nan nan nan nan nan nan nan nan\n",
      " nan nan nan nan nan nan nan nan nan nan nan nan nan nan nan nan nan nan\n",
      " nan nan nan nan nan nan nan nan nan nan nan nan nan nan nan nan nan nan\n",
      " nan nan nan nan nan nan nan nan nan nan nan nan nan nan nan nan nan nan\n",
      " nan nan nan nan nan nan nan nan nan nan nan nan nan nan nan nan nan nan\n",
      " nan nan nan nan nan nan nan nan nan nan nan nan nan nan nan nan nan nan\n",
      " nan nan nan nan nan nan nan nan nan nan nan nan nan nan nan nan nan nan\n",
      " nan nan nan nan nan nan nan nan nan nan nan nan nan nan nan nan nan nan\n",
      " nan nan nan nan nan nan nan nan nan nan nan nan nan nan nan nan nan nan\n",
      " nan nan nan nan nan nan nan nan nan nan nan nan nan nan nan nan nan nan\n",
      " nan nan nan nan nan nan nan nan nan nan nan nan nan nan nan nan nan nan\n",
      " nan nan nan nan nan nan nan nan nan]\n",
      "  warnings.warn(\n",
      "C:\\Users\\User\\AppData\\Local\\Programs\\Python\\Python311\\Lib\\site-packages\\sklearn\\utils\\validation.py:2739: UserWarning: X does not have valid feature names, but RandomForestRegressor was fitted with feature names\n",
      "  warnings.warn(\n"
     ]
    },
    {
     "name": "stdout",
     "output_type": "stream",
     "text": [
      "Лучшие параметры (GridSearchCV): {'max_depth': None, 'min_samples_leaf': 1, 'min_samples_split': 2, 'n_estimators': 100}\n"
     ]
    },
    {
     "ename": "ValueError",
     "evalue": "Classification metrics can't handle a mix of multiclass and continuous targets",
     "output_type": "error",
     "traceback": [
      "\u001b[1;31m---------------------------------------------------------------------------\u001b[0m",
      "\u001b[1;31mValueError\u001b[0m                                Traceback (most recent call last)",
      "Cell \u001b[1;32mIn[97], line 18\u001b[0m\n\u001b[0;32m     16\u001b[0m best_model_grid \u001b[38;5;241m=\u001b[39m grid_search\u001b[38;5;241m.\u001b[39mbest_estimator_\n\u001b[0;32m     17\u001b[0m y_pred_grid \u001b[38;5;241m=\u001b[39m best_model_grid\u001b[38;5;241m.\u001b[39mpredict(X_test_s)\n\u001b[1;32m---> 18\u001b[0m \u001b[38;5;28mprint\u001b[39m(\u001b[38;5;124mf\u001b[39m\u001b[38;5;124m\"\u001b[39m\u001b[38;5;124mAccuracy (GridSearchCV): \u001b[39m\u001b[38;5;132;01m{\u001b[39;00m\u001b[43maccuracy_score\u001b[49m\u001b[43m(\u001b[49m\u001b[43my_test\u001b[49m\u001b[43m,\u001b[49m\u001b[38;5;250;43m \u001b[39;49m\u001b[43my_pred_grid\u001b[49m\u001b[43m)\u001b[49m\u001b[38;5;132;01m:\u001b[39;00m\u001b[38;5;124m.4f\u001b[39m\u001b[38;5;132;01m}\u001b[39;00m\u001b[38;5;124m\"\u001b[39m)\n\u001b[0;32m     20\u001b[0m \u001b[38;5;66;03m# === RandomizedSearchCV ===\u001b[39;00m\n\u001b[0;32m     21\u001b[0m random_search \u001b[38;5;241m=\u001b[39m RandomizedSearchCV(estimator\u001b[38;5;241m=\u001b[39mrf, param_distributions\u001b[38;5;241m=\u001b[39mparam_grid, n_iter\u001b[38;5;241m=\u001b[39m\u001b[38;5;241m20\u001b[39m, cv\u001b[38;5;241m=\u001b[39m\u001b[38;5;241m5\u001b[39m, n_jobs\u001b[38;5;241m=\u001b[39m\u001b[38;5;241m-\u001b[39m\u001b[38;5;241m1\u001b[39m, scoring\u001b[38;5;241m=\u001b[39m\u001b[38;5;124m'\u001b[39m\u001b[38;5;124maccuracy\u001b[39m\u001b[38;5;124m'\u001b[39m, random_state\u001b[38;5;241m=\u001b[39m\u001b[38;5;241m42\u001b[39m)\n",
      "File \u001b[1;32m~\\AppData\\Local\\Programs\\Python\\Python311\\Lib\\site-packages\\sklearn\\utils\\_param_validation.py:216\u001b[0m, in \u001b[0;36mvalidate_params.<locals>.decorator.<locals>.wrapper\u001b[1;34m(*args, **kwargs)\u001b[0m\n\u001b[0;32m    210\u001b[0m \u001b[38;5;28;01mtry\u001b[39;00m:\n\u001b[0;32m    211\u001b[0m     \u001b[38;5;28;01mwith\u001b[39;00m config_context(\n\u001b[0;32m    212\u001b[0m         skip_parameter_validation\u001b[38;5;241m=\u001b[39m(\n\u001b[0;32m    213\u001b[0m             prefer_skip_nested_validation \u001b[38;5;129;01mor\u001b[39;00m global_skip_validation\n\u001b[0;32m    214\u001b[0m         )\n\u001b[0;32m    215\u001b[0m     ):\n\u001b[1;32m--> 216\u001b[0m         \u001b[38;5;28;01mreturn\u001b[39;00m \u001b[43mfunc\u001b[49m\u001b[43m(\u001b[49m\u001b[38;5;241;43m*\u001b[39;49m\u001b[43margs\u001b[49m\u001b[43m,\u001b[49m\u001b[43m \u001b[49m\u001b[38;5;241;43m*\u001b[39;49m\u001b[38;5;241;43m*\u001b[39;49m\u001b[43mkwargs\u001b[49m\u001b[43m)\u001b[49m\n\u001b[0;32m    217\u001b[0m \u001b[38;5;28;01mexcept\u001b[39;00m InvalidParameterError \u001b[38;5;28;01mas\u001b[39;00m e:\n\u001b[0;32m    218\u001b[0m     \u001b[38;5;66;03m# When the function is just a wrapper around an estimator, we allow\u001b[39;00m\n\u001b[0;32m    219\u001b[0m     \u001b[38;5;66;03m# the function to delegate validation to the estimator, but we replace\u001b[39;00m\n\u001b[0;32m    220\u001b[0m     \u001b[38;5;66;03m# the name of the estimator by the name of the function in the error\u001b[39;00m\n\u001b[0;32m    221\u001b[0m     \u001b[38;5;66;03m# message to avoid confusion.\u001b[39;00m\n\u001b[0;32m    222\u001b[0m     msg \u001b[38;5;241m=\u001b[39m re\u001b[38;5;241m.\u001b[39msub(\n\u001b[0;32m    223\u001b[0m         \u001b[38;5;124mr\u001b[39m\u001b[38;5;124m\"\u001b[39m\u001b[38;5;124mparameter of \u001b[39m\u001b[38;5;124m\\\u001b[39m\u001b[38;5;124mw+ must be\u001b[39m\u001b[38;5;124m\"\u001b[39m,\n\u001b[0;32m    224\u001b[0m         \u001b[38;5;124mf\u001b[39m\u001b[38;5;124m\"\u001b[39m\u001b[38;5;124mparameter of \u001b[39m\u001b[38;5;132;01m{\u001b[39;00mfunc\u001b[38;5;241m.\u001b[39m\u001b[38;5;18m__qualname__\u001b[39m\u001b[38;5;132;01m}\u001b[39;00m\u001b[38;5;124m must be\u001b[39m\u001b[38;5;124m\"\u001b[39m,\n\u001b[0;32m    225\u001b[0m         \u001b[38;5;28mstr\u001b[39m(e),\n\u001b[0;32m    226\u001b[0m     )\n",
      "File \u001b[1;32m~\\AppData\\Local\\Programs\\Python\\Python311\\Lib\\site-packages\\sklearn\\metrics\\_classification.py:227\u001b[0m, in \u001b[0;36maccuracy_score\u001b[1;34m(y_true, y_pred, normalize, sample_weight)\u001b[0m\n\u001b[0;32m    225\u001b[0m \u001b[38;5;66;03m# Compute accuracy for each possible representation\u001b[39;00m\n\u001b[0;32m    226\u001b[0m y_true, y_pred \u001b[38;5;241m=\u001b[39m attach_unique(y_true, y_pred)\n\u001b[1;32m--> 227\u001b[0m y_type, y_true, y_pred \u001b[38;5;241m=\u001b[39m \u001b[43m_check_targets\u001b[49m\u001b[43m(\u001b[49m\u001b[43my_true\u001b[49m\u001b[43m,\u001b[49m\u001b[43m \u001b[49m\u001b[43my_pred\u001b[49m\u001b[43m)\u001b[49m\n\u001b[0;32m    228\u001b[0m check_consistent_length(y_true, y_pred, sample_weight)\n\u001b[0;32m    230\u001b[0m \u001b[38;5;28;01mif\u001b[39;00m y_type\u001b[38;5;241m.\u001b[39mstartswith(\u001b[38;5;124m\"\u001b[39m\u001b[38;5;124mmultilabel\u001b[39m\u001b[38;5;124m\"\u001b[39m):\n",
      "File \u001b[1;32m~\\AppData\\Local\\Programs\\Python\\Python311\\Lib\\site-packages\\sklearn\\metrics\\_classification.py:107\u001b[0m, in \u001b[0;36m_check_targets\u001b[1;34m(y_true, y_pred)\u001b[0m\n\u001b[0;32m    104\u001b[0m     y_type \u001b[38;5;241m=\u001b[39m {\u001b[38;5;124m\"\u001b[39m\u001b[38;5;124mmulticlass\u001b[39m\u001b[38;5;124m\"\u001b[39m}\n\u001b[0;32m    106\u001b[0m \u001b[38;5;28;01mif\u001b[39;00m \u001b[38;5;28mlen\u001b[39m(y_type) \u001b[38;5;241m>\u001b[39m \u001b[38;5;241m1\u001b[39m:\n\u001b[1;32m--> 107\u001b[0m     \u001b[38;5;28;01mraise\u001b[39;00m \u001b[38;5;167;01mValueError\u001b[39;00m(\n\u001b[0;32m    108\u001b[0m         \u001b[38;5;124m\"\u001b[39m\u001b[38;5;124mClassification metrics can\u001b[39m\u001b[38;5;124m'\u001b[39m\u001b[38;5;124mt handle a mix of \u001b[39m\u001b[38;5;132;01m{0}\u001b[39;00m\u001b[38;5;124m and \u001b[39m\u001b[38;5;132;01m{1}\u001b[39;00m\u001b[38;5;124m targets\u001b[39m\u001b[38;5;124m\"\u001b[39m\u001b[38;5;241m.\u001b[39mformat(\n\u001b[0;32m    109\u001b[0m             type_true, type_pred\n\u001b[0;32m    110\u001b[0m         )\n\u001b[0;32m    111\u001b[0m     )\n\u001b[0;32m    113\u001b[0m \u001b[38;5;66;03m# We can't have more than one value on y_type => The set is no more needed\u001b[39;00m\n\u001b[0;32m    114\u001b[0m y_type \u001b[38;5;241m=\u001b[39m y_type\u001b[38;5;241m.\u001b[39mpop()\n",
      "\u001b[1;31mValueError\u001b[0m: Classification metrics can't handle a mix of multiclass and continuous targets"
     ]
    }
   ],
   "source": [
    "from sklearn.model_selection import GridSearchCV\n",
    "\n",
    "# === Гиперпараметры для настройки ===\n",
    "param_grid = {\n",
    "    'n_estimators': [100, 200, 300,500,1000],  # Количество деревьев\n",
    "    'max_depth': [None,1,2,5, 10, 20, 30],  # Глубина дерева\n",
    "    'min_samples_split': [2, 5, 10],  # Минимальное число образцов для разделения\n",
    "    'min_samples_leaf': [1, 2, 4],    # Минимальное число образцов в листе\n",
    "}\n",
    "\n",
    "# === GridSearchCV ===\n",
    "grid_search = GridSearchCV(estimator=rf, param_grid=param_grid, cv=5, n_jobs=-1, scoring='accuracy')\n",
    "grid_search.fit(X_train, y_train)\n",
    "\n",
    "print(f\"Лучшие параметры (GridSearchCV): {grid_search.best_params_}\")\n",
    "best_model_grid = grid_search.best_estimator_\n",
    "y_pred_grid = best_model_grid.predict(X_test_s)\n",
    "print(f\"Accuracy (GridSearchCV): {accuracy_score(y_test, y_pred_grid):.4f}\")\n",
    "\n",
    "# === RandomizedSearchCV ===\n",
    "random_search = RandomizedSearchCV(estimator=rf, param_distributions=param_grid, n_iter=20, cv=5, n_jobs=-1, scoring='accuracy', random_state=42)\n",
    "random_search.fit(X_train_s, y_train)\n",
    "\n",
    "print(f\"Лучшие параметры (RandomizedSearchCV): {random_search.best_params_}\")\n",
    "best_model_random = random_search.best_estimator_\n",
    "y_pred_random = best_model_random.predict(X_test_s)\n",
    "print(f\"Accuracy (RandomizedSearchCV): {accuracy_score(y_test, y_pred_random):.4f}\")"
   ]
  },
  {
   "cell_type": "markdown",
   "id": "18659951-633c-4bcb-a39c-85613590d1b4",
   "metadata": {},
   "source": [
    "Техника не выдерживает, земля уходит из-под ног, постоянно вылазиит какая-то ошибка, но получаем результат! Вставим его в модель!"
   ]
  },
  {
   "cell_type": "code",
   "execution_count": 98,
   "id": "04be21e4-5de4-458a-b307-0394f8fa31df",
   "metadata": {},
   "outputs": [
    {
     "name": "stdout",
     "output_type": "stream",
     "text": [
      "Accuracy: 0.8933\n",
      "R2 Score: 0.71\n"
     ]
    }
   ],
   "source": [
    "rf = RandomForestRegressor(n_estimators=100, max_depth=None, min_samples_leaf=1, min_samples_split=2, random_state=42)\n",
    "\n",
    "rf.fit(X_train_s, y_train)\n",
    "y_pred_all = model.predict(X_test_s)\n",
    "\n",
    "print(f\"Accuracy: {accuracy_score(y_test, y_pred_all):.4f}\")\n",
    "print(f\"R2 Score: {rf.score(X_test_s, y_test):.2f}\")"
   ]
  },
  {
   "cell_type": "code",
   "execution_count": null,
   "id": "14e3b1f8-d162-4e78-ab32-35ec88c3c5c2",
   "metadata": {},
   "outputs": [],
   "source": [
    "И! Получили тот же результат, что и был оптимальным изначально! Ура!"
   ]
  },
  {
   "cell_type": "code",
   "execution_count": 100,
   "id": "f34c23c8-ca53-446e-bf3b-17fbc15fd038",
   "metadata": {},
   "outputs": [
    {
     "name": "stdout",
     "output_type": "stream",
     "text": [
      "Лучшие параметры: {'C': 0.01, 'max_iter': 100, 'penalty': None, 'solver': 'saga'}\n",
      "Accuracy на тесте: 0.9067\n"
     ]
    },
    {
     "name": "stderr",
     "output_type": "stream",
     "text": [
      "C:\\Users\\User\\AppData\\Local\\Programs\\Python\\Python311\\Lib\\site-packages\\sklearn\\model_selection\\_validation.py:528: FitFailedWarning: \n",
      "225 fits failed out of a total of 600.\n",
      "The score on these train-test partitions for these parameters will be set to nan.\n",
      "If these failures are not expected, you can try to debug them by setting error_score='raise'.\n",
      "\n",
      "Below are more details about the failures:\n",
      "--------------------------------------------------------------------------------\n",
      "75 fits failed with the following error:\n",
      "Traceback (most recent call last):\n",
      "  File \"C:\\Users\\User\\AppData\\Local\\Programs\\Python\\Python311\\Lib\\site-packages\\sklearn\\model_selection\\_validation.py\", line 866, in _fit_and_score\n",
      "    estimator.fit(X_train, y_train, **fit_params)\n",
      "  File \"C:\\Users\\User\\AppData\\Local\\Programs\\Python\\Python311\\Lib\\site-packages\\sklearn\\base.py\", line 1389, in wrapper\n",
      "    return fit_method(estimator, *args, **kwargs)\n",
      "           ^^^^^^^^^^^^^^^^^^^^^^^^^^^^^^^^^^^^^^\n",
      "  File \"C:\\Users\\User\\AppData\\Local\\Programs\\Python\\Python311\\Lib\\site-packages\\sklearn\\linear_model\\_logistic.py\", line 1193, in fit\n",
      "    solver = _check_solver(self.solver, self.penalty, self.dual)\n",
      "             ^^^^^^^^^^^^^^^^^^^^^^^^^^^^^^^^^^^^^^^^^^^^^^^^^^^\n",
      "  File \"C:\\Users\\User\\AppData\\Local\\Programs\\Python\\Python311\\Lib\\site-packages\\sklearn\\linear_model\\_logistic.py\", line 63, in _check_solver\n",
      "    raise ValueError(\n",
      "ValueError: Solver lbfgs supports only 'l2' or None penalties, got l1 penalty.\n",
      "\n",
      "--------------------------------------------------------------------------------\n",
      "75 fits failed with the following error:\n",
      "Traceback (most recent call last):\n",
      "  File \"C:\\Users\\User\\AppData\\Local\\Programs\\Python\\Python311\\Lib\\site-packages\\sklearn\\model_selection\\_validation.py\", line 866, in _fit_and_score\n",
      "    estimator.fit(X_train, y_train, **fit_params)\n",
      "  File \"C:\\Users\\User\\AppData\\Local\\Programs\\Python\\Python311\\Lib\\site-packages\\sklearn\\base.py\", line 1389, in wrapper\n",
      "    return fit_method(estimator, *args, **kwargs)\n",
      "           ^^^^^^^^^^^^^^^^^^^^^^^^^^^^^^^^^^^^^^\n",
      "  File \"C:\\Users\\User\\AppData\\Local\\Programs\\Python\\Python311\\Lib\\site-packages\\sklearn\\linear_model\\_logistic.py\", line 1193, in fit\n",
      "    solver = _check_solver(self.solver, self.penalty, self.dual)\n",
      "             ^^^^^^^^^^^^^^^^^^^^^^^^^^^^^^^^^^^^^^^^^^^^^^^^^^^\n",
      "  File \"C:\\Users\\User\\AppData\\Local\\Programs\\Python\\Python311\\Lib\\site-packages\\sklearn\\linear_model\\_logistic.py\", line 63, in _check_solver\n",
      "    raise ValueError(\n",
      "ValueError: Solver lbfgs supports only 'l2' or None penalties, got elasticnet penalty.\n",
      "\n",
      "--------------------------------------------------------------------------------\n",
      "75 fits failed with the following error:\n",
      "Traceback (most recent call last):\n",
      "  File \"C:\\Users\\User\\AppData\\Local\\Programs\\Python\\Python311\\Lib\\site-packages\\sklearn\\model_selection\\_validation.py\", line 866, in _fit_and_score\n",
      "    estimator.fit(X_train, y_train, **fit_params)\n",
      "  File \"C:\\Users\\User\\AppData\\Local\\Programs\\Python\\Python311\\Lib\\site-packages\\sklearn\\base.py\", line 1389, in wrapper\n",
      "    return fit_method(estimator, *args, **kwargs)\n",
      "           ^^^^^^^^^^^^^^^^^^^^^^^^^^^^^^^^^^^^^^\n",
      "  File \"C:\\Users\\User\\AppData\\Local\\Programs\\Python\\Python311\\Lib\\site-packages\\sklearn\\linear_model\\_logistic.py\", line 1203, in fit\n",
      "    raise ValueError(\"l1_ratio must be specified when penalty is elasticnet.\")\n",
      "ValueError: l1_ratio must be specified when penalty is elasticnet.\n",
      "\n",
      "  warnings.warn(some_fits_failed_message, FitFailedWarning)\n",
      "C:\\Users\\User\\AppData\\Local\\Programs\\Python\\Python311\\Lib\\site-packages\\sklearn\\model_selection\\_search.py:1107: UserWarning: One or more of the test scores are non-finite: [       nan 0.58864407 0.87949153 0.87949153        nan        nan\n",
      " 0.89971751 0.91638418        nan 0.58864407 0.87949153 0.87949153\n",
      "        nan        nan 0.89299435 0.90971751        nan 0.58864407\n",
      " 0.87949153 0.87949153        nan        nan 0.89299435 0.90971751\n",
      "        nan 0.87949153 0.88615819 0.88615819        nan        nan\n",
      " 0.89971751 0.91638418        nan 0.87949153 0.88615819 0.88615819\n",
      "        nan        nan 0.89299435 0.90971751        nan 0.87949153\n",
      " 0.88615819 0.88615819        nan        nan 0.89299435 0.90971751\n",
      "        nan 0.89966102 0.91305085 0.91305085        nan        nan\n",
      " 0.89971751 0.91638418        nan 0.89966102 0.91305085 0.91305085\n",
      "        nan        nan 0.89299435 0.90971751        nan 0.89966102\n",
      " 0.91305085 0.91305085        nan        nan 0.89299435 0.90971751\n",
      "        nan 0.91305085 0.91305085 0.91638418        nan        nan\n",
      " 0.89971751 0.91638418        nan 0.91305085 0.91305085 0.90971751\n",
      "        nan        nan 0.89299435 0.90971751        nan 0.91305085\n",
      " 0.91305085 0.91305085        nan        nan 0.89299435 0.90971751\n",
      "        nan 0.91638418 0.90638418 0.91638418        nan        nan\n",
      " 0.89971751 0.91638418        nan 0.90971751 0.91305085 0.90971751\n",
      "        nan        nan 0.89299435 0.90971751        nan 0.90971751\n",
      " 0.91305085 0.90971751        nan        nan 0.89299435 0.90971751]\n",
      "  warnings.warn(\n",
      "C:\\Users\\User\\AppData\\Local\\Programs\\Python\\Python311\\Lib\\site-packages\\sklearn\\linear_model\\_logistic.py:1207: UserWarning: Setting penalty=None will ignore the C and l1_ratio parameters\n",
      "  warnings.warn(\n",
      "C:\\Users\\User\\AppData\\Local\\Programs\\Python\\Python311\\Lib\\site-packages\\sklearn\\linear_model\\_sag.py:348: ConvergenceWarning: The max_iter was reached which means the coef_ did not converge\n",
      "  warnings.warn(\n"
     ]
    }
   ],
   "source": [
    "# Определяем гиперпараметры для поиска\n",
    "param_grid = {\n",
    "    'penalty': ['l1', 'l2', 'elasticnet', None],\n",
    "    'C': [0.01, 0.1, 1, 10, 100],\n",
    "    'solver': ['lbfgs', 'saga'],  # 'lbfgs' не поддерживает l1, saga универсальный\n",
    "    'max_iter': [100, 500, 1000]\n",
    "}\n",
    "\n",
    "# Инициализация модели\n",
    "model = LogisticRegression(random_state=42)\n",
    "\n",
    "# GridSearchCV\n",
    "grid_search = GridSearchCV(estimator=model, param_grid=param_grid, cv=5, scoring='accuracy', n_jobs=-1)\n",
    "grid_search.fit(X_train_s, y_train)\n",
    "\n",
    "# Лучшая модель\n",
    "best_model = grid_search.best_estimator_\n",
    "print(f\"Лучшие параметры: {grid_search.best_params_}\")\n",
    "print(f\"Accuracy на тесте: {accuracy_score(y_test, best_model.predict(X_test_s)):.4f}\")"
   ]
  },
  {
   "cell_type": "code",
   "execution_count": 105,
   "id": "bf7207e2-3421-4371-b2a0-70d1a50a7863",
   "metadata": {},
   "outputs": [
    {
     "name": "stdout",
     "output_type": "stream",
     "text": [
      "Лучшие параметры: {'solver': 'saga', 'penalty': None, 'max_iter': 100, 'C': 1}\n",
      "Accuracy на тесте: 0.9067\n"
     ]
    },
    {
     "name": "stderr",
     "output_type": "stream",
     "text": [
      "C:\\Users\\User\\AppData\\Local\\Programs\\Python\\Python311\\Lib\\site-packages\\sklearn\\model_selection\\_validation.py:528: FitFailedWarning: \n",
      "105 fits failed out of a total of 250.\n",
      "The score on these train-test partitions for these parameters will be set to nan.\n",
      "If these failures are not expected, you can try to debug them by setting error_score='raise'.\n",
      "\n",
      "Below are more details about the failures:\n",
      "--------------------------------------------------------------------------------\n",
      "35 fits failed with the following error:\n",
      "Traceback (most recent call last):\n",
      "  File \"C:\\Users\\User\\AppData\\Local\\Programs\\Python\\Python311\\Lib\\site-packages\\sklearn\\model_selection\\_validation.py\", line 866, in _fit_and_score\n",
      "    estimator.fit(X_train, y_train, **fit_params)\n",
      "  File \"C:\\Users\\User\\AppData\\Local\\Programs\\Python\\Python311\\Lib\\site-packages\\sklearn\\base.py\", line 1389, in wrapper\n",
      "    return fit_method(estimator, *args, **kwargs)\n",
      "           ^^^^^^^^^^^^^^^^^^^^^^^^^^^^^^^^^^^^^^\n",
      "  File \"C:\\Users\\User\\AppData\\Local\\Programs\\Python\\Python311\\Lib\\site-packages\\sklearn\\linear_model\\_logistic.py\", line 1193, in fit\n",
      "    solver = _check_solver(self.solver, self.penalty, self.dual)\n",
      "             ^^^^^^^^^^^^^^^^^^^^^^^^^^^^^^^^^^^^^^^^^^^^^^^^^^^\n",
      "  File \"C:\\Users\\User\\AppData\\Local\\Programs\\Python\\Python311\\Lib\\site-packages\\sklearn\\linear_model\\_logistic.py\", line 63, in _check_solver\n",
      "    raise ValueError(\n",
      "ValueError: Solver lbfgs supports only 'l2' or None penalties, got elasticnet penalty.\n",
      "\n",
      "--------------------------------------------------------------------------------\n",
      "40 fits failed with the following error:\n",
      "Traceback (most recent call last):\n",
      "  File \"C:\\Users\\User\\AppData\\Local\\Programs\\Python\\Python311\\Lib\\site-packages\\sklearn\\model_selection\\_validation.py\", line 866, in _fit_and_score\n",
      "    estimator.fit(X_train, y_train, **fit_params)\n",
      "  File \"C:\\Users\\User\\AppData\\Local\\Programs\\Python\\Python311\\Lib\\site-packages\\sklearn\\base.py\", line 1389, in wrapper\n",
      "    return fit_method(estimator, *args, **kwargs)\n",
      "           ^^^^^^^^^^^^^^^^^^^^^^^^^^^^^^^^^^^^^^\n",
      "  File \"C:\\Users\\User\\AppData\\Local\\Programs\\Python\\Python311\\Lib\\site-packages\\sklearn\\linear_model\\_logistic.py\", line 1193, in fit\n",
      "    solver = _check_solver(self.solver, self.penalty, self.dual)\n",
      "             ^^^^^^^^^^^^^^^^^^^^^^^^^^^^^^^^^^^^^^^^^^^^^^^^^^^\n",
      "  File \"C:\\Users\\User\\AppData\\Local\\Programs\\Python\\Python311\\Lib\\site-packages\\sklearn\\linear_model\\_logistic.py\", line 63, in _check_solver\n",
      "    raise ValueError(\n",
      "ValueError: Solver lbfgs supports only 'l2' or None penalties, got l1 penalty.\n",
      "\n",
      "--------------------------------------------------------------------------------\n",
      "30 fits failed with the following error:\n",
      "Traceback (most recent call last):\n",
      "  File \"C:\\Users\\User\\AppData\\Local\\Programs\\Python\\Python311\\Lib\\site-packages\\sklearn\\model_selection\\_validation.py\", line 866, in _fit_and_score\n",
      "    estimator.fit(X_train, y_train, **fit_params)\n",
      "  File \"C:\\Users\\User\\AppData\\Local\\Programs\\Python\\Python311\\Lib\\site-packages\\sklearn\\base.py\", line 1389, in wrapper\n",
      "    return fit_method(estimator, *args, **kwargs)\n",
      "           ^^^^^^^^^^^^^^^^^^^^^^^^^^^^^^^^^^^^^^\n",
      "  File \"C:\\Users\\User\\AppData\\Local\\Programs\\Python\\Python311\\Lib\\site-packages\\sklearn\\linear_model\\_logistic.py\", line 1203, in fit\n",
      "    raise ValueError(\"l1_ratio must be specified when penalty is elasticnet.\")\n",
      "ValueError: l1_ratio must be specified when penalty is elasticnet.\n",
      "\n",
      "  warnings.warn(some_fits_failed_message, FitFailedWarning)\n",
      "C:\\Users\\User\\AppData\\Local\\Programs\\Python\\Python311\\Lib\\site-packages\\sklearn\\model_selection\\_search.py:1107: UserWarning: One or more of the test scores are non-finite: [       nan 0.90971751        nan 0.91638418 0.88615819        nan\n",
      " 0.91305085 0.87949153        nan 0.90971751 0.87949153 0.89299435\n",
      " 0.87949153        nan 0.91305085 0.91305085        nan        nan\n",
      "        nan        nan 0.89966102        nan 0.91638418 0.89299435\n",
      " 0.88615819        nan 0.90971751 0.91305085        nan 0.91638418\n",
      "        nan 0.89971751 0.89299435        nan        nan 0.89299435\n",
      " 0.89971751        nan 0.89299435 0.58864407 0.87949153 0.87949153\n",
      "        nan        nan 0.90638418        nan        nan 0.91305085\n",
      "        nan 0.90971751]\n",
      "  warnings.warn(\n",
      "C:\\Users\\User\\AppData\\Local\\Programs\\Python\\Python311\\Lib\\site-packages\\sklearn\\linear_model\\_sag.py:348: ConvergenceWarning: The max_iter was reached which means the coef_ did not converge\n",
      "  warnings.warn(\n"
     ]
    }
   ],
   "source": [
    "from sklearn.model_selection import RandomizedSearchCV\n",
    "\n",
    "param_distributions = {\n",
    "    'penalty': ['l1', 'l2', 'elasticnet', None],\n",
    "    'C': [0.01, 0.1, 1, 10, 100],  \n",
    "    'solver': ['lbfgs', 'saga'],\n",
    "    'max_iter': [100, 500, 1000]\n",
    "}\n",
    "\n",
    "# RandomizedSearchCV\n",
    "random_search = RandomizedSearchCV(estimator=model, param_distributions=param_distributions, n_iter=50, \n",
    "                                   cv=5, scoring='accuracy', n_jobs=-1, random_state=42)\n",
    "random_search.fit(X_train_s, y_train)\n",
    "\n",
    "# Лучшая модель\n",
    "best_model = random_search.best_estimator_\n",
    "print(f\"Лучшие параметры: {random_search.best_params_}\")\n",
    "print(f\"Accuracy на тесте: {accuracy_score(y_test, best_model.predict(X_test_s)):.4f}\")"
   ]
  },
  {
   "cell_type": "markdown",
   "id": "8e3fe0c1-db31-4ed5-8794-7ea733254c18",
   "metadata": {},
   "source": [
    "Вывод: для логистической модели наблюдаем покращення - от 0.89 до 0.9! Для леса - все без изменений! Может быть недостаточно нагенерировали признаков. Важность признаков вцелом аналогична тепловой карте матрицы корреляций! Надо отметить, что данных маловато и они не симметричны: много нулей в значениях целевой переменной, что может мешать обучению."
   ]
  },
  {
   "cell_type": "markdown",
   "id": "dbbe06f4-a5a6-4098-838e-4957f45cd545",
   "metadata": {},
   "source": []
  }
 ],
 "metadata": {
  "kernelspec": {
   "display_name": "Python 3 (ipykernel)",
   "language": "python",
   "name": "python3"
  },
  "language_info": {
   "codemirror_mode": {
    "name": "ipython",
    "version": 3
   },
   "file_extension": ".py",
   "mimetype": "text/x-python",
   "name": "python",
   "nbconvert_exporter": "python",
   "pygments_lexer": "ipython3",
   "version": "3.11.4"
  }
 },
 "nbformat": 4,
 "nbformat_minor": 5
}
